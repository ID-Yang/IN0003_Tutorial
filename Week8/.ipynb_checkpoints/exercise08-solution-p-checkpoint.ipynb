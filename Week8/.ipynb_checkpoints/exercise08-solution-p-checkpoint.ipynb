{
 "cells": [
  {
   "cell_type": "markdown",
   "metadata": {},
   "source": [
    "### Assignment 8.1 (P) Partial Application\n",
    "\n",
    "Types of n-ary functions are denoted as `arg_1 -> ... -> arg_n -> ret` in OCaml. \n",
    "\n",
    "1) Discuss, why this notation is indeed meaningful.\n",
    "\n",
    "An n-ary function can be considered as an unary function that returns an (n-1)-ary function. Every function with multiple arguments can thus be treated as a sequence of applications of unary functions: `arg_1 -> (arg_2 -> ... (arg_n -> ret) ... )`. In fact, a definition `let foo a b c = a + b + c` is just a more convenient way to write `let foo = fun a -> fun b -> fun c -> a + b + c`.\n",
    "\n",
    "2) Give the types of these expressions and discuss to what they evaluate:"
   ]
  },
  {
   "cell_type": "code",
   "execution_count": 9,
   "metadata": {},
   "outputs": [
    {
     "data": {
      "text/plain": [
       "val a : int -> (int -> '_a) -> '_a = <fun>\n"
      ]
     },
     "execution_count": 9,
     "metadata": {},
     "output_type": "execute_result"
    },
    {
     "data": {
      "text/plain": [
       "val b : 'a -> int -> int -> int = <fun>\n"
      ]
     },
     "execution_count": 9,
     "metadata": {},
     "output_type": "execute_result"
    },
    {
     "data": {
      "text/plain": [
       "val c : ('_a -> string) -> (string -> '_a) -> string list = <fun>\n"
      ]
     },
     "execution_count": 9,
     "metadata": {},
     "output_type": "execute_result"
    },
    {
     "data": {
      "text/plain": [
       "val d : int list -> (int -> (int -> int) -> int) -> int = <fun>\n"
      ]
     },
     "execution_count": 9,
     "metadata": {},
     "output_type": "execute_result"
    },
    {
     "data": {
      "text/plain": [
       "val e : '_a list -> ('_a -> bool) list = <fun>\n"
      ]
     },
     "execution_count": 9,
     "metadata": {},
     "output_type": "execute_result"
    }
   ],
   "source": [
    "let a : int -> (int -> 'a) -> 'a = (fun a b c -> c (a + b)) 3;;\n",
    "\n",
    "let b : 'a -> int -> int -> int = (fun a b -> (+) b);;\n",
    "\n",
    "let c : ('a -> string) -> (string -> 'a) -> string list\n",
    "    = (fun a b c -> b (c a) :: [a]) \"x\";;\n",
    "\n",
    "let d : int list -> (int -> (int -> int) -> int) -> int\n",
    "    = (fun a b -> List.fold_left b 1 (List.map ( * ) a));;\n",
    "\n",
    "let e : 'a list -> ('a -> bool) list = (let x = List.map in x (<));;"
   ]
  },
  {
   "cell_type": "code",
   "execution_count": 3,
   "metadata": {},
   "outputs": [
    {
     "data": {
      "text/plain": [
       "val a : int -> (int -> '_a) -> '_a = <fun>\n"
      ]
     },
     "execution_count": 3,
     "metadata": {},
     "output_type": "execute_result"
    },
    {
     "data": {
      "text/plain": [
       "- : int -> int -> (int -> 'a) -> 'a = <fun>\n"
      ]
     },
     "execution_count": 3,
     "metadata": {},
     "output_type": "execute_result"
    },
    {
     "data": {
      "text/plain": [
       "- : int -> (int -> '_a) -> '_a = <fun>\n"
      ]
     },
     "execution_count": 3,
     "metadata": {},
     "output_type": "execute_result"
    }
   ],
   "source": [
    "(* function *)\n",
    "let a : int -> (int -> 'a) -> 'a = (fun a b c -> c (a + b)) 3;; (* right side matters*)\n",
    "    (* fun b c -> c (3 + b) *)\n",
    "fun a b c -> c (a + b);;\n",
    "(fun a b c -> c (a + b)) 3;;"
   ]
  },
  {
   "cell_type": "code",
   "execution_count": 6,
   "metadata": {},
   "outputs": [
    {
     "data": {
      "text/plain": [
       "val b : 'a -> int -> int -> int = <fun>\n"
      ]
     },
     "execution_count": 6,
     "metadata": {},
     "output_type": "execute_result"
    },
    {
     "data": {
      "text/plain": [
       "- : 'a -> int -> int -> int = <fun>\n"
      ]
     },
     "execution_count": 6,
     "metadata": {},
     "output_type": "execute_result"
    },
    {
     "data": {
      "text/plain": [
       "- : int = 2\n"
      ]
     },
     "execution_count": 6,
     "metadata": {},
     "output_type": "execute_result"
    },
    {
     "data": {
      "text/plain": [
       "- : int = 2\n"
      ]
     },
     "execution_count": 6,
     "metadata": {},
     "output_type": "execute_result"
    },
    {
     "ename": "error",
     "evalue": "compile_error",
     "output_type": "error",
     "traceback": [
      "\u001b[32mFile \"[6]\", line 8, characters 0-1:\n\u001b[31mError: This expression has type int\n       This is not a function; it cannot be applied.\n\u001b[36m   7: \u001b[30m(+)  1 1;; (* treat + as a function *)\n\u001b[36m   8: \u001b[30m\u001b[4m1\u001b[0m\u001b[30m (+) 1;;\u001b[0m\n"
     ]
    }
   ],
   "source": [
    "(* function b *)\n",
    "let b : 'a -> int -> int -> int = (fun a b -> (+) b);; (* (+) wait for another int *)\n",
    "    (* fun a b i1 -> b + i1 *)\n",
    "    \n",
    "fun a b -> (+) b;; (* a doesn't matter *)\n",
    "\n",
    "1 + 1;;\n",
    "(+)  1 1;; (* treat + as a function *)\n",
    "(* wrong if 1 (+) 1;; or + 1 1;; *)"
   ]
  },
  {
   "cell_type": "code",
   "execution_count": 12,
   "metadata": {},
   "outputs": [
    {
     "data": {
      "text/plain": [
       "val c : ('_a -> string) -> (string -> '_a) -> string list = <fun>\n"
      ]
     },
     "execution_count": 12,
     "metadata": {},
     "output_type": "execute_result"
    },
    {
     "data": {
      "text/plain": [
       "- : 'a -> ('b -> 'a) -> ('a -> 'b) -> 'a list = <fun>\n"
      ]
     },
     "execution_count": 12,
     "metadata": {},
     "output_type": "execute_result"
    },
    {
     "data": {
      "text/plain": [
       "- : ('_a -> string) -> (string -> '_a) -> string list = <fun>\n"
      ]
     },
     "execution_count": 12,
     "metadata": {},
     "output_type": "execute_result"
    }
   ],
   "source": [
    "(* function c*)\n",
    "let c : ('a -> string) -> (string -> 'a) -> string list\n",
    "    = (fun a b c -> b (c a) :: [a]) \"x\";;\n",
    "    (* fun b c -> [b (c \"x\"); \"x\"] *)\n",
    "\n",
    "    \n",
    "(fun a b c -> b (c a) :: [a]);; \n",
    "(* a is 'a, then [a] is 'a list, then b (c a) create 'a to fit the list*)\n",
    "(* so b and c are function *)\n",
    "\n",
    "(fun a b c -> b (c a) :: [a]) \"x\";;\n",
    "(* replace the type 'a with string *)\n",
    "\n",
    "\n"
   ]
  },
  {
   "cell_type": "code",
   "execution_count": 19,
   "metadata": {},
   "outputs": [
    {
     "data": {
      "text/plain": [
       "val d : int list -> (int -> (int -> int) -> int) -> int = <fun>\n"
      ]
     },
     "execution_count": 19,
     "metadata": {},
     "output_type": "execute_result"
    },
    {
     "data": {
      "text/plain": [
       "- : (int -> int) list = [<fun>; <fun>; <fun>]\n"
      ]
     },
     "execution_count": 19,
     "metadata": {},
     "output_type": "execute_result"
    },
    {
     "data": {
      "text/plain": [
       "- : ('a -> 'b -> 'a) -> 'a -> 'b list -> 'a = <fun>\n"
      ]
     },
     "execution_count": 19,
     "metadata": {},
     "output_type": "execute_result"
    },
    {
     "data": {
      "text/plain": [
       "- : int list -> (int -> (int -> int) -> int) -> int = <fun>\n"
      ]
     },
     "execution_count": 19,
     "metadata": {},
     "output_type": "execute_result"
    }
   ],
   "source": [
    "(* function d *)\n",
    "\n",
    "let d : int list -> (int -> (int -> int) -> int) -> int\n",
    "    = (fun a b -> List.fold_left b 1 (List.map ( * ) a));;\n",
    "    (* fun a b -> List.fold_left b 1 (List.map ( * ) a ) *)\n",
    "\n",
    "List.map ( * ) [1;2;3];; (* int list -> (int -> int) list *) \n",
    "(* a function list, each element waits for a single int*)\n",
    "\n",
    "List.fold_left;;\n",
    "fun a b -> List.fold_left b 1 (List.map ( * ) a);;\n",
    "(* 'a here is int, 'b list is (int -> int) list *)\n",
    "(* so the type of b is (int -> (int -> int) -> int) *)\n"
   ]
  },
  {
   "cell_type": "code",
   "execution_count": null,
   "metadata": {},
   "outputs": [],
   "source": [
    "(* function e*)\n",
    "let e : 'a list -> ('a -> bool) list = (let x = List.map in x (<));;\n",
    "    (* fun l -> List.map (<) l *)\n",
    "    \n",
    "(* just replace the x usint List.map, which is a local function or renamed function*)"
   ]
  },
  {
   "cell_type": "markdown",
   "metadata": {},
   "source": [
    "### Assignment 8.2 (P) Tail Recursion\n",
    "\n",
    "1) Check which of the following functions are tail recursive:"
   ]
  },
  {
   "cell_type": "code",
   "execution_count": null,
   "metadata": {},
   "outputs": [],
   "source": [
    "let rec f a = match a with [] -> a \n",
    "    | x::xs -> (x+1)::f xs;;\n",
    "\n",
    "let rec g a b = if a = b then 0 \n",
    "    else if a < b then g (a+1) b \n",
    "    else g (a-1) b;;\n",
    "\n",
    "let rec h a b c = if b then h a (not b) (c * 2) \n",
    "    else if c > 1000 then a \n",
    "    else h (a+2) (not b) c * 2;;\n",
    "\n",
    "let rec i a = function [] -> a \n",
    "    | x::xs -> i (i (x,x) [x]) xs;;"
   ]
  },
  {
   "cell_type": "markdown",
   "metadata": {},
   "source": [
    "2) Write tail recursive versions of the following functions (without changing their types):"
   ]
  },
  {
   "cell_type": "code",
   "execution_count": null,
   "metadata": {},
   "outputs": [],
   "source": [
    "let rec fac n = if n < 2 then 1 \n",
    "    else n * fac (n-1);;\n",
    "\n",
    "let rec remove a = function [] -> []\n",
    "    | x::xs -> if x = a then remove a xs else x::remove a xs;;\n",
    "    \n",
    "let rec partition f l = match l with [] -> [],[]\n",
    "    | x::xs -> let a,b = partition f xs in\n",
    "        if f x then x::a,b else a,x::b;;"
   ]
  },
  {
   "cell_type": "code",
   "execution_count": 22,
   "metadata": {},
   "outputs": [
    {
     "data": {
      "text/plain": [
       "val int_l : int list = [1; 2; 3; 4]\n"
      ]
     },
     "execution_count": 22,
     "metadata": {},
     "output_type": "execute_result"
    },
    {
     "data": {
      "text/plain": [
       "val partition : ('a -> bool) -> 'a list -> 'a list * 'a list = <fun>\n"
      ]
     },
     "execution_count": 22,
     "metadata": {},
     "output_type": "execute_result"
    }
   ],
   "source": [
    "(* we always need the style with impl (helper function) and acc*)\n",
    "\n",
    "(* let fac n = \n",
    "    let rec impl n acc = \n",
    "\n",
    "    in\n",
    "    impl n 1;; *)\n",
    "    \n",
    "(* let remove a l = \n",
    "    let rec impl l acc = \n",
    "\n",
    "    in\n",
    "    impl l [];; *)\n",
    "let int_l = [1;2;3;4];;\n",
    "(* Here example is reversed *)\n",
    "(* List.rev (impl l []);; *)\n",
    "\n",
    "(* \n",
    "    \n",
    "    (* let r = impl l ([],[]) in\n",
    "    List.rev (fst r), List.rev (snd r);; *)"
   ]
  },
  {
   "cell_type": "code",
   "execution_count": null,
   "metadata": {},
   "outputs": [],
   "source": [
    "let fac n = \n",
    "    let rec impl n acc = if n < 2 then acc \n",
    "        else impl (n-1) (acc * n)\n",
    "    in\n",
    "    impl n 1;;\n",
    "\n",
    "let remove a l = \n",
    "    let rec impl l acc = \n",
    "        match l with [] -> acc\n",
    "        | x::xs -> if x = a then impl xs acc \n",
    "            else impl xs (x::acc)\n",
    "    in\n",
    "    List.rev (impl l []);;\n",
    "(* or: *)\n",
    "let remove a l = List.rev (List.fold_left \n",
    "    (fun acc x -> if x = a then acc else x::acc) [] l);;\n",
    "\n",
    "let partition f l = \n",
    "    let rec impl l (a,b) =\n",
    "        match l with [] -> (a,b)\n",
    "        | x::xs -> impl xs (if f x then (x::a,b) else (a,x::b))\n",
    "    in\n",
    "    let r = impl l ([],[]) in\n",
    "    List.rev (fst r), List.rev (snd r);;"
   ]
  },
  {
   "cell_type": "markdown",
   "metadata": {},
   "source": [
    "### Assignment 8.3 (P) Lazy Lists from last year!!! Detailed solution from last year blatt\n",
    "\n",
    "Infinite data structures (e.g. lists) can be realized using the concept of **lazy evaluation**. Instead of constructing the entire data structure immediately, we only construct a small part and keep us a means to construct more on demand. "
   ]
  },
  {
   "cell_type": "code",
   "execution_count": 27,
   "metadata": {},
   "outputs": [
    {
     "data": {
      "text/plain": [
       "type 'a llist = Cons of 'a * (unit -> 'a llist)\n"
      ]
     },
     "execution_count": 27,
     "metadata": {},
     "output_type": "execute_result"
    }
   ],
   "source": [
    "type 'a llist = Cons of 'a * (unit -> 'a llist);;"
   ]
  },
  {
   "cell_type": "code",
   "execution_count": null,
   "metadata": {},
   "outputs": [],
   "source": [
    "fun () -> 1;;\n",
    "let not_a_llist = fun () -> [1;2];;\n",
    "not_a_llist ();;"
   ]
  },
  {
   "cell_type": "code",
   "execution_count": 50,
   "metadata": {},
   "outputs": [
    {
     "data": {
      "text/plain": [
       "- : unit -> int = <fun>\n"
      ]
     },
     "execution_count": 50,
     "metadata": {},
     "output_type": "execute_result"
    },
    {
     "data": {
      "text/plain": [
       "val not_a_llist : unit -> int list = <fun>\n"
      ]
     },
     "execution_count": 50,
     "metadata": {},
     "output_type": "execute_result"
    },
    {
     "data": {
      "text/plain": [
       "- : int list = [1; 2]\n"
      ]
     },
     "execution_count": 50,
     "metadata": {},
     "output_type": "execute_result"
    },
    {
     "data": {
      "text/plain": [
       "- : int list = [1; 2]\n"
      ]
     },
     "execution_count": 50,
     "metadata": {},
     "output_type": "execute_result"
    },
    {
     "data": {
      "text/plain": [
       "type 'a llist_mock_up = Cons_mock of 'a * (unit -> 'a llist_mock_up) | Empty\n"
      ]
     },
     "execution_count": 50,
     "metadata": {},
     "output_type": "execute_result"
    },
    {
     "data": {
      "text/plain": [
       "- : unit -> 'a llist_mock_up = <fun>\n"
      ]
     },
     "execution_count": 50,
     "metadata": {},
     "output_type": "execute_result"
    },
    {
     "data": {
      "text/plain": [
       "val ll_mock_up : int llist_mock_up = Cons_mock (1, <fun>)\n"
      ]
     },
     "execution_count": 50,
     "metadata": {},
     "output_type": "execute_result"
    },
    {
     "data": {
      "text/plain": [
       "val first : 'a llist_mock_up -> 'a = <fun>\n"
      ]
     },
     "execution_count": 50,
     "metadata": {},
     "output_type": "execute_result"
    },
    {
     "data": {
      "text/plain": [
       "- : int = 1\n"
      ]
     },
     "execution_count": 50,
     "metadata": {},
     "output_type": "execute_result"
    },
    {
     "data": {
      "text/plain": [
       "val second : 'a llist_mock_up -> 'a = <fun>\n"
      ]
     },
     "execution_count": 50,
     "metadata": {},
     "output_type": "execute_result"
    },
    {
     "data": {
      "text/plain": [
       "- : int = 2\n"
      ]
     },
     "execution_count": 50,
     "metadata": {},
     "output_type": "execute_result"
    },
    {
     "name": "stderr",
     "output_type": "stream",
     "text": [
      "File \"[50]\", line 11, characters 13-29:\n",
      "Warning 8: this pattern-matching is not exhaustive.\n",
      "Here is an example of a case that is not matched:\n",
      "Empty\n",
      "File \"[50]\", line 17, characters 13-29:\n",
      "Warning 8: this pattern-matching is not exhaustive.\n",
      "Here is an example of a case that is not matched:\n",
      "Empty\n"
     ]
    }
   ],
   "source": [
    "[1;2];;\n",
    "(* just helpful mock up, not the real exercise, *)\n",
    "type 'a llist_mock_up = Cons_mock of 'a * (unit -> 'a llist_mock_up) | Empty;; (* this is not a infinite list!!! *)\n",
    "fun () -> Empty;;\n",
    "let ll_mock_up = Cons_mock (1, fun () -> Cons_mock (2, fun () ->Empty));;\n",
    "\n",
    "(* the functions are ugly, but can give you some hint! *)\n",
    "\n",
    "let first ll= \n",
    "         let Cons_mock (x, _) = ll\n",
    "         in\n",
    "         x;;\n",
    "first ll_mock_up;;\n",
    "\n",
    "let second ll = \n",
    "         let Cons_mock (_, f) = ll\n",
    "         in\n",
    "         first (f ());;\n",
    "second ll_mock_up;;\n",
    "\n",
    "\n"
   ]
  },
  {
   "cell_type": "code",
   "execution_count": 29,
   "metadata": {},
   "outputs": [
    {
     "data": {
      "text/plain": [
       "- : unit -> int = <fun>\n"
      ]
     },
     "execution_count": 29,
     "metadata": {},
     "output_type": "execute_result"
    },
    {
     "data": {
      "text/plain": [
       "val not_a_llist : unit -> int list = <fun>\n"
      ]
     },
     "execution_count": 29,
     "metadata": {},
     "output_type": "execute_result"
    },
    {
     "data": {
      "text/plain": [
       "- : int list = [1; 2; 3; 4; 5]\n"
      ]
     },
     "execution_count": 29,
     "metadata": {},
     "output_type": "execute_result"
    },
    {
     "data": {
      "text/plain": [
       "val list : int list = [1; 2; 3]\n"
      ]
     },
     "execution_count": 29,
     "metadata": {},
     "output_type": "execute_result"
    }
   ],
   "source": [
    "let list = [1;2;3];;\n",
    "(* let llist = Cons (1, \n",
    "                   fun () Cons(2, \n",
    "                                 fun () 3 Cons...));; *)\n",
    "(* infinite so not possible to build that *)\n",
    "(* Now assume that we have such a llist *)"
   ]
  },
  {
   "cell_type": "markdown",
   "metadata": {},
   "source": [
    "<span style=\"color:red\">**Added some additional exercise, which come from last year!**</span>\n",
    "\n",
    "addtional) Implement the function `lconst : int -> int llist` that constructs the list of all same numbers starting at the given argument.\n",
    "\n",
    "1) Implement the function `lnat : int -> int llist` that constructs the list of all natural numbers starting at the given argument.\n",
    "\n",
    "2) Implement the function `lfib : unit -> int llist` that constructs a list containing the Fibonacci sequence.\n",
    "\n",
    "addtional) Implement the function `lpower2 : unit -> int llist` that constructs the list of all 2er powers starting at 1."
   ]
  },
  {
   "cell_type": "code",
   "execution_count": null,
   "metadata": {},
   "outputs": [],
   "source": [
    "(* let rec lconst n = Cons  *)\n",
    "\n",
    "(* let rec lnat i = Cons *)\n",
    "\n",
    "(* let lfib () = \n",
    "    let rec impl a b = Cons \n",
    "    in\n",
    "    impl 0 1;; *)\n",
    "    \n",
    "(* let lpowers2 () =\n",
    "    let rec impl n = Cons \n",
    "    in \n",
    "    impl 1;; *)"
   ]
  },
  {
   "cell_type": "code",
   "execution_count": 78,
   "metadata": {},
   "outputs": [
    {
     "data": {
      "text/plain": [
       "val lconst : 'a -> 'a llist = <fun>\n"
      ]
     },
     "execution_count": 78,
     "metadata": {},
     "output_type": "execute_result"
    },
    {
     "data": {
      "text/plain": [
       "val lnat : int -> int llist = <fun>\n"
      ]
     },
     "execution_count": 78,
     "metadata": {},
     "output_type": "execute_result"
    },
    {
     "data": {
      "text/plain": [
       "val lfib : unit -> int llist = <fun>\n"
      ]
     },
     "execution_count": 78,
     "metadata": {},
     "output_type": "execute_result"
    },
    {
     "data": {
      "text/plain": [
       "val lpowers2 : unit -> int llist = <fun>\n"
      ]
     },
     "execution_count": 78,
     "metadata": {},
     "output_type": "execute_result"
    }
   ],
   "source": [
    "let rec lconst n = Cons (n, fun () -> lconst n);;\n",
    "\n",
    "let rec lnat i = Cons (i, (fun () -> lnat (i + 1)));;\n",
    "\n",
    "let lfib () = \n",
    "    let rec impl a b = Cons (a, fun () -> impl b (a+b))\n",
    "    in\n",
    "    impl 0 1;;\n",
    "    \n",
    "let lpowers2 () =\n",
    "    let rec impl n = Cons (n, fun () -> impl (2*n))\n",
    "    in \n",
    "    impl 1;;"
   ]
  },
  {
   "cell_type": "markdown",
   "metadata": {},
   "source": [
    "addtional) Implement the function `lhd : 'a llist -> 'a ` that returns the head of the list.\n",
    "\n",
    "addtional) Implement the function `ltl : 'a llist -> 'a ` that returns the tail of the list.\n",
    "\n",
    "3) Implement the function `ltake : int -> 'a llist -> 'a list` that returns the first $n$ elements of the list.\n",
    "\n",
    "4) Implement the function `lfilter : ('a -> bool) -> 'a llist -> 'a llist` to filter those elements from the list that do not satisfy the given predicate. \n",
    "\n",
    "addtional) Implement the function `ldrop : int -> 'a llist -> 'a llist`. with the first n elements deleted.\n",
    "\n",
    "addtional) Implement the function `lmap : ('a -> 'b) -> 'a llist -> 'b llist`."
   ]
  },
  {
   "cell_type": "code",
   "execution_count": null,
   "metadata": {},
   "outputs": [],
   "source": [
    "(* let lhd (Cons (h, _)) =*)\n",
    "\n",
    "(* let ltl (Cons (_, t)) = *)\n",
    "\n",
    "(* let rec ltake n (Cons (h, t)) = ;; *)\n",
    "\n",
    "(* let rec lfilter f (Cons (h, t)) =  *)\n",
    "\n",
    "(* let rec ldrop n (Cons (h, t)) = *)\n",
    "\n",
    "(* let rec lmap f (Cons (h, t)) =  *)"
   ]
  },
  {
   "cell_type": "code",
   "execution_count": 79,
   "metadata": {},
   "outputs": [
    {
     "data": {
      "text/plain": [
       "val lhd : 'a llist -> 'a = <fun>\n"
      ]
     },
     "execution_count": 79,
     "metadata": {},
     "output_type": "execute_result"
    },
    {
     "data": {
      "text/plain": [
       "val ltl : 'a llist -> 'a llist = <fun>\n"
      ]
     },
     "execution_count": 79,
     "metadata": {},
     "output_type": "execute_result"
    },
    {
     "data": {
      "text/plain": [
       "val ltake : int -> 'a llist -> 'a list = <fun>\n"
      ]
     },
     "execution_count": 79,
     "metadata": {},
     "output_type": "execute_result"
    },
    {
     "data": {
      "text/plain": [
       "val lfilter : ('a -> bool) -> 'a llist -> 'a llist = <fun>\n"
      ]
     },
     "execution_count": 79,
     "metadata": {},
     "output_type": "execute_result"
    },
    {
     "data": {
      "text/plain": [
       "val ldrop : int -> 'a llist -> 'a llist = <fun>\n"
      ]
     },
     "execution_count": 79,
     "metadata": {},
     "output_type": "execute_result"
    },
    {
     "data": {
      "text/plain": [
       "val lmap : ('a -> 'b) -> 'a llist -> 'b llist = <fun>\n"
      ]
     },
     "execution_count": 79,
     "metadata": {},
     "output_type": "execute_result"
    }
   ],
   "source": [
    "let lhd (Cons (h, _)) = h;;\n",
    "\n",
    "let ltl (Cons (_, t)) = t ();;\n",
    "\n",
    "let rec ltake n (Cons (h, t)) = \n",
    "    if n <= 0 then [] else h::ltake (n - 1) (t ());;\n",
    "    \n",
    "let rec lfilter f (Cons (h, t)) = \n",
    "    if f h then Cons (h, fun () -> lfilter f (t ()))\n",
    "    else lfilter f (t ());;\n",
    "\n",
    "let rec ldrop n (Cons (h, t)) =\n",
    "    if n = 0 then Cons (h, t) else ldrop (n-1) (t ());;\n",
    "\n",
    "let rec lmap f (Cons (h, t)) = Cons (f h, fun () -> lmap f (t ()));;"
   ]
  },
  {
   "cell_type": "code",
   "execution_count": 85,
   "metadata": {},
   "outputs": [
    {
     "data": {
      "text/plain": [
       "val power2 : int llist = Cons (1, <fun>)\n"
      ]
     },
     "execution_count": 85,
     "metadata": {},
     "output_type": "execute_result"
    },
    {
     "data": {
      "text/plain": [
       "- : int list = [1; 2; 4; 8; 16; 32; 64; 128; 256; 512; 1024; 2048]\n"
      ]
     },
     "execution_count": 85,
     "metadata": {},
     "output_type": "execute_result"
    },
    {
     "data": {
      "text/plain": [
       "val droped_power2 : int llist = Cons (4096, <fun>)\n"
      ]
     },
     "execution_count": 85,
     "metadata": {},
     "output_type": "execute_result"
    },
    {
     "data": {
      "text/plain": [
       "- : int list =\n",
       "[4096; 8192; 16384; 32768; 65536; 131072; 262144; 524288; 1048576; 2097152;\n",
       " 4194304; 8388608]\n"
      ]
     },
     "execution_count": 85,
     "metadata": {},
     "output_type": "execute_result"
    }
   ],
   "source": [
    "(* Here some test*)\n",
    "(* Hope you enjoy this recap for list *)\n",
    "let power2 = lpowers2 ();;\n",
    "ltake 12 power2;; \n",
    "let droped_power2 = ldrop 12 power2;;\n",
    "ltake 12 droped_power2;;"
   ]
  },
  {
   "cell_type": "markdown",
   "metadata": {},
   "source": [
    "### Assignment 8.4 (P) Little Helpers\n",
    "\n",
    "Consider the following functions. \n",
    "\n",
    "* `(%) : ('a -> 'b) -> ('c -> 'a) -> 'c -> 'b`\n",
    "* `(@@) : ('a -> 'b) -> 'a -> 'b`\n",
    "* `(|>) : 'a -> ('a -> 'b) -> 'b`\n",
    "\n",
    "1) Try to find their implementation just from the types:"
   ]
  },
  {
   "cell_type": "code",
   "execution_count": 53,
   "metadata": {},
   "outputs": [
    {
     "data": {
      "text/plain": [
       "val ( % ) : ('a -> 'b) -> ('c -> 'a) -> 'c -> 'b = <fun>\n"
      ]
     },
     "execution_count": 53,
     "metadata": {},
     "output_type": "execute_result"
    },
    {
     "data": {
      "text/plain": [
       "val ( @@ ) : ('a -> 'b) -> 'a -> 'b = <fun>\n"
      ]
     },
     "execution_count": 53,
     "metadata": {},
     "output_type": "execute_result"
    },
    {
     "data": {
      "text/plain": [
       "val ( |> ) : 'a -> ('a -> 'b) -> 'b = <fun>\n"
      ]
     },
     "execution_count": 53,
     "metadata": {},
     "output_type": "execute_result"
    }
   ],
   "source": [
    "let (%) f g x = f (g x);;\n",
    "\n",
    "let (@@) f x = f x;;\n",
    "\n",
    "let (|>) x f = f x;;"
   ]
  },
  {
   "cell_type": "code",
   "execution_count": 74,
   "metadata": {},
   "outputs": [
    {
     "data": {
      "text/plain": [
       "- : ('a -> 'b) -> ('c -> 'a) -> 'c -> 'b = <fun>\n"
      ]
     },
     "execution_count": 74,
     "metadata": {},
     "output_type": "execute_result"
    },
    {
     "data": {
      "text/plain": [
       "val double : int -> int = <fun>\n"
      ]
     },
     "execution_count": 74,
     "metadata": {},
     "output_type": "execute_result"
    },
    {
     "data": {
      "text/plain": [
       "val square : int -> int = <fun>\n"
      ]
     },
     "execution_count": 74,
     "metadata": {},
     "output_type": "execute_result"
    },
    {
     "data": {
      "text/plain": [
       "- : int = 4\n"
      ]
     },
     "execution_count": 74,
     "metadata": {},
     "output_type": "execute_result"
    },
    {
     "data": {
      "text/plain": [
       "- : int = 4\n"
      ]
     },
     "execution_count": 74,
     "metadata": {},
     "output_type": "execute_result"
    },
    {
     "data": {
      "text/plain": [
       "- : int = 4\n"
      ]
     },
     "execution_count": 74,
     "metadata": {},
     "output_type": "execute_result"
    }
   ],
   "source": [
    "(%);;\n",
    "let double x = 2 * x;;\n",
    "let square x = x * x;; \n",
    "(* same *)\n",
    "square (double 1);;\n",
    "(%) square double 1;;\n",
    "(square % double) 1;;"
   ]
  },
  {
   "cell_type": "code",
   "execution_count": 76,
   "metadata": {},
   "outputs": [
    {
     "data": {
      "text/plain": [
       "- : ('a -> 'b) -> 'a -> 'b = <fun>\n"
      ]
     },
     "execution_count": 76,
     "metadata": {},
     "output_type": "execute_result"
    },
    {
     "data": {
      "text/plain": [
       "- : int = 2\n"
      ]
     },
     "execution_count": 76,
     "metadata": {},
     "output_type": "execute_result"
    },
    {
     "data": {
      "text/plain": [
       "- : int = 2\n"
      ]
     },
     "execution_count": 76,
     "metadata": {},
     "output_type": "execute_result"
    }
   ],
   "source": [
    "(@@);;\n",
    "double @@ 1;;\n",
    "double 1;;"
   ]
  },
  {
   "cell_type": "code",
   "execution_count": 63,
   "metadata": {},
   "outputs": [
    {
     "data": {
      "text/plain": [
       "- : 'a -> ('a -> 'b) -> 'b = <fun>\n"
      ]
     },
     "execution_count": 63,
     "metadata": {},
     "output_type": "execute_result"
    },
    {
     "data": {
      "text/plain": [
       "- : int = 1\n"
      ]
     },
     "execution_count": 63,
     "metadata": {},
     "output_type": "execute_result"
    },
    {
     "data": {
      "text/plain": [
       "val double : int -> int = <fun>\n"
      ]
     },
     "execution_count": 63,
     "metadata": {},
     "output_type": "execute_result"
    },
    {
     "data": {
      "text/plain": [
       "- : int = 10\n"
      ]
     },
     "execution_count": 63,
     "metadata": {},
     "output_type": "execute_result"
    },
    {
     "data": {
      "text/plain": [
       "- : ('a -> 'b) -> 'a list -> 'b list = <fun>\n"
      ]
     },
     "execution_count": 63,
     "metadata": {},
     "output_type": "execute_result"
    },
    {
     "data": {
      "text/plain": [
       "- : int list -> int list = <fun>\n"
      ]
     },
     "execution_count": 63,
     "metadata": {},
     "output_type": "execute_result"
    },
    {
     "data": {
      "text/plain": [
       "- : int list = [2; 4; 6]\n"
      ]
     },
     "execution_count": 63,
     "metadata": {},
     "output_type": "execute_result"
    }
   ],
   "source": [
    "(|>);;\n",
    "(1, 2) |> fst;;\n",
    "let double x = 2 * x;;\n",
    "5 |> double;;\n",
    "\n",
    "List.map;;\n",
    "double |> List.map;;\n",
    "[1;2;3] |> (double |> List.map);;"
   ]
  },
  {
   "cell_type": "markdown",
   "metadata": {},
   "source": [
    "2) When is it possible to derive the implementation from the type?"
   ]
  },
  {
   "cell_type": "markdown",
   "metadata": {},
   "source": [
    "Assuming we use no side-effects:\n",
    "For types `x` and `y`, a pure function `x -> y` has `|x| * |y|` possible implementations (where `|x|` indicates the number of values of type `x`).\n",
    "Example for a function `bool -> bool`:"
   ]
  },
  {
   "cell_type": "code",
   "execution_count": null,
   "metadata": {},
   "outputs": [],
   "source": [
    "let implementations = [\n",
    "    (fun _ -> true);\n",
    "    (fun _ -> false);\n",
    "    (fun x -> x);\n",
    "    (fun x -> not x);\n",
    "]"
   ]
  },
  {
   "cell_type": "markdown",
   "metadata": {},
   "source": [
    "Since a polymorphic type could be any type (e.g. also `unit`), we don't know about its values, and since we can't inspect them, we also can't match on them. Therefore, for pure functions that don't have any concrete type in the signature, there is only one possible implementation."
   ]
  },
  {
   "cell_type": "markdown",
   "metadata": {},
   "source": [
    "3) Give an example where these operators could be used."
   ]
  },
  {
   "cell_type": "code",
   "execution_count": null,
   "metadata": {},
   "outputs": [],
   "source": [
    "List.map (string_of_int % fst) [(1,'a'); (2,'b'); (3,'c')]\n",
    "(* instead of\n",
    "List.map (fun x -> string_of_int (fst x)) [(1,'a'); (2,'b'); (3,'c')]\n",
    "*)"
   ]
  },
  {
   "cell_type": "code",
   "execution_count": null,
   "metadata": {},
   "outputs": [],
   "source": [
    "String.concat \"\" @@ List.map string_of_int \n",
    "    @@ List.map fst [(1,'a'); (2,'b'); (3,'c')]\n",
    "(* instead of\n",
    "String.concat \"\" (List.map string_of_int \n",
    "    (List.map fst [(1,'a'); (2,'b'); (3,'c')]))\n",
    "*)"
   ]
  },
  {
   "cell_type": "code",
   "execution_count": null,
   "metadata": {},
   "outputs": [],
   "source": [
    "List.map fst [(1,'a'); (2,'b'); (3,'c')] \n",
    "    |> List.map string_of_int |> String.concat \"\"\n",
    "(* instead of\n",
    "String.concat \"\" (List.map string_of_int \n",
    "    (List.map fst [(1,'a'); (2,'b'); (3,'c')]))\n",
    "*)"
   ]
  }
 ],
 "metadata": {
  "kernelspec": {
   "display_name": "OCaml 4.05.0",
   "language": "OCaml",
   "name": "ocaml-jupyter"
  },
  "language_info": {
   "codemirror_mode": "text/x-ocaml",
   "file_extension": ".ml",
   "mimetype": "text/x-ocaml",
   "name": "OCaml",
   "nbconverter_exporter": null,
   "pygments_lexer": "OCaml",
   "version": "4.05.0"
  }
 },
 "nbformat": 4,
 "nbformat_minor": 2
}
