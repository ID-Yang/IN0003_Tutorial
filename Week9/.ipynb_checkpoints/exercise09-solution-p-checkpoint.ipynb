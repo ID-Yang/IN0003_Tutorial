{
 "cells": [
  {
   "cell_type": "markdown",
   "metadata": {},
   "source": [
    "### Assignment 9.1 (P) (Delayed) evaluation, unit, side-effects, pure functions\n",
    "\n",
    "We can see let-bindings as functions without any arguments. Therefore they can and will be immediately evaluated.\n",
    "\n",
    "If we want to **delay evaluation** of the bound expression until application, we can introduce an argument. However, if there are no free variables in our expression, we just need some dummy argument. To indicate this, we use the type `unit` which has only one value `()` (which can be seen as the empty tuple).\n",
    "\n",
    "Discuss this difference between the following two expressions"
   ]
  },
  {
   "cell_type": "code",
   "execution_count": 32,
   "metadata": {},
   "outputs": [
    {
     "data": {
      "text/plain": [
       "- : unit * unit = ((), ())\n"
      ]
     },
     "execution_count": 32,
     "metadata": {},
     "output_type": "execute_result"
    },
    {
     "name": "stdout",
     "output_type": "stream",
     "text": [
      "foo\n"
     ]
    }
   ],
   "source": [
    "let x = print_endline \"foo\" in (x, x);;"
   ]
  },
  {
   "cell_type": "code",
   "execution_count": 33,
   "metadata": {},
   "outputs": [
    {
     "name": "stdout",
     "output_type": "stream",
     "text": [
      "foo\n",
      "foo\n"
     ]
    },
    {
     "data": {
      "text/plain": [
       "- : unit * unit = ((), ())\n"
      ]
     },
     "execution_count": 33,
     "metadata": {},
     "output_type": "execute_result"
    }
   ],
   "source": [
    "let x () = print_endline \"foo\" in (x (), x ());;"
   ]
  },
  {
   "cell_type": "markdown",
   "metadata": {},
   "source": [
    " <span style=\"color:red\">**The difference:   \n",
    "  The first is only a varible decleration, so \"foo\" printed only once.  \n",
    "  The second is the function and is called twice, so \"foo\" printed twice**</span>"
   ]
  },
  {
   "cell_type": "markdown",
   "metadata": {},
   "source": [
    " <span style=\"color:red\">**The important points:   \n",
    "  `let x = e` will `e` immediately valued and `x` bound with `e`.   \n",
    "  `let x () = e` is the syntax sugar for `let x = fun () -> e`.**</span>"
   ]
  },
  {
   "cell_type": "markdown",
   "metadata": {},
   "source": [
    "1. What are side-effects? Givesome examples.\n",
    "\n",
    "$1$. Side-effects **interact with the environment during evaluation**. \n",
    "This means writing data **without contributing to the returned value or reading data without depending on the arguments.**  \n",
    " <span style=\"color:red\">**(!!!Look the example with `print_endline` above!!!)**</span>\n",
    "\n",
    "\n",
    "E.g. writing/reading to/from some channel (e.g. stdout, files, network), changing/reading some data outside the function (mutable data structures, e.g. references, hashtables, arrays), reading time, getting random values etc."
   ]
  },
  {
   "cell_type": "markdown",
   "metadata": {},
   "source": [
    "<br> <br> <br>\n",
    "$2$. What are **pure functions**? What are their benefits?\n",
    "\n",
    "$2$. Pure functions are **functions without observable side-effects** (we ignore the effects of computation itself (e.g. used memory, caches, spent CPU cycles)). \n",
    "\n",
    "Like functions in the mathematical sense, their **return value will only depend on the values of the arguments** and will therefore always give the same result for some input. \n",
    "\n",
    "Reproducible results facilitate testing, parallization (no interaction between different calls), memoization (we can save the result for some input and don't need to compute it again), and on-demand/lazy evaluation (if there are no side-effects, we only need to evaluate some function if we depend on its value)."
   ]
  },
  {
   "cell_type": "code",
   "execution_count": 10,
   "metadata": {},
   "outputs": [
    {
     "data": {
      "text/plain": [
       "val double : int -> int = <fun>\n"
      ]
     },
     "execution_count": 10,
     "metadata": {},
     "output_type": "execute_result"
    },
    {
     "data": {
      "text/plain": [
       "val double_not_pure : int -> int = <fun>\n"
      ]
     },
     "execution_count": 10,
     "metadata": {},
     "output_type": "execute_result"
    },
    {
     "name": "stdout",
     "output_type": "stream",
     "text": [
      "5\n"
     ]
    },
    {
     "data": {
      "text/plain": [
       "- : int = 10\n"
      ]
     },
     "execution_count": 10,
     "metadata": {},
     "output_type": "execute_result"
    }
   ],
   "source": [
    "let double x = 2 * x;;\n",
    "\n",
    "let double_not_pure x = print_endline (string_of_int x); 2 * x;;\n",
    "double_not_pure 5;;"
   ]
  },
  {
   "cell_type": "markdown",
   "metadata": {},
   "source": [
    "<br> <br> <br>\n",
    "$3$. Why does **delaying evaluation** only make sense in case of side-effects?\n",
    "\n",
    "$3$. If we have all needed arguments for application and **the function has no side-effects, it does not matter when we evaluate it, since the call will always give the same value and not influence anything else**. \n",
    "\n",
    "You could argue that even for a pure function it does make a difference when you evaluate if it does not terminate, but this will only make a difference if there are side-effects in the program (i.e. which side-effects are executed before the non-terminating call)."
   ]
  },
  {
   "cell_type": "markdown",
   "metadata": {},
   "source": [
    "<br> <br> <br>\n",
    "$4$. Why do we want to use `()` instead of some unused variable?\n",
    "\n",
    "$4$. The only way to convey in the signature (besides some agreed upon convention) that the **evaluation is not influenced by an argument, is by limiting its values to exactly one value.** \n",
    "- If we see a signature `'a -> int` it could for example compute some hash of the first argument (only possible because of the built-in polymorphic functions depending on runtime representation); \n",
    "\n",
    "- for `unit -> int` we know that it will either be a constant function or get the `int` via side-effect; \n",
    "\n",
    "- for `unit -> unit` we know that the function will only do something via side-effects (or do nothing). The choice of `unit` to indicate side-effects for both arguments and results is rather arbitrary. \n",
    "\n",
    "We could also define something like the following to further classify side-effects:"
   ]
  },
  {
   "cell_type": "code",
   "execution_count": 16,
   "metadata": {},
   "outputs": [
    {
     "name": "stderr",
     "output_type": "stream",
     "text": [
      "File \"[16]\", line 3, characters 4-5:\n",
      "Warning 26: unused variable c.\n"
     ]
    },
    {
     "name": "stdout",
     "output_type": "stream",
     "text": [
      "1234ab\n"
     ]
    },
    {
     "data": {
      "text/plain": [
       "- : unit = ()\n"
      ]
     },
     "execution_count": 16,
     "metadata": {},
     "output_type": "execute_result"
    }
   ],
   "source": [
    "let a = print_int 1; \"a\" in\n",
    "let b = print_int 2; \"b\" in\n",
    "let c = print_int 3; \"c\" in\n",
    "print_int 4;\n",
    "print_endline (a ^ b);;"
   ]
  },
  {
   "cell_type": "code",
   "execution_count": 37,
   "metadata": {},
   "outputs": [
    {
     "name": "stdout",
     "output_type": "stream",
     "text": [
      "foo\n",
      "bar\n"
     ]
    },
    {
     "data": {
      "text/plain": [
       "- : unit = ()\n"
      ]
     },
     "execution_count": 37,
     "metadata": {},
     "output_type": "execute_result"
    },
    {
     "name": "stdout",
     "output_type": "stream",
     "text": [
      "bar\n",
      "foo\n"
     ]
    },
    {
     "data": {
      "text/plain": [
       "- : unit list = [(); ()]\n"
      ]
     },
     "execution_count": 37,
     "metadata": {},
     "output_type": "execute_result"
    }
   ],
   "source": [
    "let _ =\n",
    "    print_endline \"foo\";\n",
    "    print_endline \"bar\";;\n",
    "    \n",
    "let _ =\n",
    "    print_endline \"foo\" ::\n",
    "    print_endline \"bar\" ::\n",
    "    [];;"
   ]
  },
  {
   "cell_type": "code",
   "execution_count": 36,
   "metadata": {},
   "outputs": [
    {
     "data": {
      "text/plain": [
       "type resource = Terminal | File | Network | Mutable\n"
      ]
     },
     "execution_count": 36,
     "metadata": {},
     "output_type": "execute_result"
    },
    {
     "data": {
      "text/plain": [
       "type action = Read | Write\n"
      ]
     },
     "execution_count": 36,
     "metadata": {},
     "output_type": "execute_result"
    },
    {
     "data": {
      "text/plain": [
       "type side_effect = action * resource\n"
      ]
     },
     "execution_count": 36,
     "metadata": {},
     "output_type": "execute_result"
    },
    {
     "data": {
      "text/plain": [
       "val print_endline' : string -> side_effect = <fun>\n"
      ]
     },
     "execution_count": 36,
     "metadata": {},
     "output_type": "execute_result"
    },
    {
     "name": "stdout",
     "output_type": "stream",
     "text": [
      "bar\n",
      "foo\n"
     ]
    },
    {
     "data": {
      "text/plain": [
       "- : unit list = [(); ()]\n"
      ]
     },
     "execution_count": 36,
     "metadata": {},
     "output_type": "execute_result"
    }
   ],
   "source": [
    "type resource = Terminal | File | Network | Mutable\n",
    "type action = Read | Write\n",
    "type side_effect = (action * resource)\n",
    "let print_endline' x : side_effect = print_endline x; (Write, Terminal)\n",
    "let _ =\n",
    "    print_endline' \"foo\" ::\n",
    "    print_endline' \"bar\" ::\n",
    "    []\n",
    "    \n",
    "(* bar is the first element to be pushed into list*)"
   ]
  },
  {
   "cell_type": "markdown",
   "metadata": {},
   "source": [
    "### Assignment 9.2 (P) Students in, students out!\n",
    "\n",
    "Once again, we consider our student records:"
   ]
  },
  {
   "cell_type": "code",
   "execution_count": 11,
   "metadata": {},
   "outputs": [
    {
     "data": {
      "text/plain": [
       "type student = {\n",
       "  first_name : string;\n",
       "  last_name : string;\n",
       "  id : int;\n",
       "  semester : int;\n",
       "  grades : (int * float) list;\n",
       "}\n"
      ]
     },
     "execution_count": 11,
     "metadata": {},
     "output_type": "execute_result"
    },
    {
     "data": {
      "text/plain": [
       "type database = student list\n"
      ]
     },
     "execution_count": 11,
     "metadata": {},
     "output_type": "execute_result"
    }
   ],
   "source": [
    "type student = {\n",
    "    first_name : string;\n",
    "    last_name : string;\n",
    "    id : int;\n",
    "    semester : int;\n",
    "    grades : (int * float) list\n",
    "}\n",
    "\n",
    "type database = student list"
   ]
  },
  {
   "cell_type": "markdown",
   "metadata": {},
   "source": [
    "Now, we define a file format to store students that, for each student, contains a line \n",
    "\n",
    "<i>first_name</i>;<i>last_name</i>;<i>id</i>;<i>semester</i>;<i>gc</i>\n",
    "\n",
    "where <i>gc</i> number of lines\n",
    "\n",
    "<i>course</i>;<i>grade</i>\n",
    "\n",
    "follow with grades.\n",
    "\n",
    "1) Implement a function `load_db : string -> database` to load the students from the given file. Throw an exception `Corrupt_database_file` if something is wrong with the file.\n",
    "\n"
   ]
  },
  {
   "cell_type": "code",
   "execution_count": 1,
   "metadata": {},
   "outputs": [
    {
     "data": {
      "text/plain": [
       "- : string -> in_channel = <fun>\n"
      ]
     },
     "execution_count": 1,
     "metadata": {},
     "output_type": "execute_result"
    },
    {
     "data": {
      "text/plain": [
       "- : in_channel -> string = <fun>\n"
      ]
     },
     "execution_count": 1,
     "metadata": {},
     "output_type": "execute_result"
    },
    {
     "data": {
      "text/plain": [
       "- : in_channel -> unit = <fun>\n"
      ]
     },
     "execution_count": 1,
     "metadata": {},
     "output_type": "execute_result"
    },
    {
     "data": {
      "text/plain": [
       "- : string list = [\"Anton\"; \"Maier\"; \"173\"; \"3\"; \"3\"]\n"
      ]
     },
     "execution_count": 1,
     "metadata": {},
     "output_type": "execute_result"
    },
    {
     "data": {
      "text/plain": [
       "- : string list = [\"1\"; \"1.70\"]\n"
      ]
     },
     "execution_count": 1,
     "metadata": {},
     "output_type": "execute_result"
    },
    {
     "data": {
      "text/plain": [
       "exception Corrupt_database_file\n"
      ]
     },
     "execution_count": 1,
     "metadata": {},
     "output_type": "execute_result"
    }
   ],
   "source": [
    "(* Hint *)\n",
    "\n",
    "open_in;; (* open a file *)\n",
    "input_line;; (* read a line from channel *)\n",
    "close_in;; (* close a file *)\n",
    "String.split_on_char ';' \"Anton;Maier;173;3;3\";;\n",
    "String.split_on_char ';' \"1;1.70\";;\n",
    "\n",
    "exception Corrupt_database_file;; (* declear a self-defined exception*)"
   ]
  },
  {
   "cell_type": "markdown",
   "metadata": {},
   "source": [
    "<br>\n",
    "1.1) First part of the `load_db`.  \n",
    "`read_grades gc grades` can `raise Corrupt_database_file`\n",
    "\n",
    "`val read_grades : int -> (int * float) list -> (int * float) list = <fun>`\n",
    "\n",
    "`read_grades 3 []` tries to read out from the file that we open (here is the file \"filename\")   \n",
    "```\n",
    "1;1.70\n",
    "4;2.30\n",
    "18;3.00\n",
    "```\n",
    "the output `[(1, 1.70); (4, 2.30); (18, 3.00)]` (the same order in the file)"
   ]
  },
  {
   "cell_type": "code",
   "execution_count": 23,
   "metadata": {},
   "outputs": [
    {
     "data": {
      "text/plain": [
       "val file : in_channel = <abstr>\n"
      ]
     },
     "execution_count": 23,
     "metadata": {},
     "output_type": "execute_result"
    },
    {
     "data": {
      "text/plain": [
       "val read_grades : int -> (int * float) list -> (int * float) list = <fun>\n"
      ]
     },
     "execution_count": 23,
     "metadata": {},
     "output_type": "execute_result"
    }
   ],
   "source": [
    "let file = open_in \"filename\";;\n",
    "\n",
    "let rec read_grades gc grades =\n",
    "  if gc <= 0 then grades else\n",
    "(*   if gc <= 0 then List.rev grades else (* List.rev to keep the order*) *)\n",
    "    try\n",
    "      let line = input_line file in\n",
    "        match String.split_on_char ';' line with \n",
    "        (* then we have a list of !!!string!!!*)\n",
    "        (* .... *)\n",
    "   with End_of_file -> raise Corrupt_database_file;; (* when wrong then exception*)"
   ]
  },
  {
   "cell_type": "markdown",
   "metadata": {},
   "source": [
    "<br>\n",
    "1.2) Second part of the `load_db`.    \n",
    "`read_students db` can raise `Corrupt_database_file` and reuses the `read_grades`.\n",
    "\n",
    "`val read_students : student list -> student list = <fun>`\n",
    "\n",
    "```\n",
    "Anton;Maier;173;3;3\n",
    "1;1.70\n",
    "4;2.30\n",
    "18;3.00\n",
    "```"
   ]
  },
  {
   "cell_type": "code",
   "execution_count": 25,
   "metadata": {},
   "outputs": [
    {
     "data": {
      "text/plain": [
       "val read_students : student list -> student list = <fun>\n"
      ]
     },
     "execution_count": 25,
     "metadata": {},
     "output_type": "execute_result"
    }
   ],
   "source": [
    "let rec read_students db =\n",
    "    try\n",
    "      let line = input_line file  in\n",
    "      match String.split_on_char ';' line with\n",
    "        | \"\"::_ \n",
    "        | _::\"\"::_ -> raise Corrupt_database_file (* empty name - invalid*)\n",
    "        | [first_name;last_name;id_s;sem_s;gc_s] ->\n",
    "           (* inportant part*)\n",
    "        | _ -> raise Corrupt_database_file\n",
    "    with End_of_file -> db;;"
   ]
  },
  {
   "cell_type": "markdown",
   "metadata": {},
   "source": [
    "<br>\n",
    "1) Implement a function `load_db : string -> database` to load the students from the given file. Throw an exception `Corrupt_database_file` if something is wrong with the file.  \n",
    "\n",
    "Reuse the `read_students`."
   ]
  },
  {
   "cell_type": "code",
   "execution_count": 27,
   "metadata": {},
   "outputs": [
    {
     "data": {
      "text/plain": [
       "val load_db : string -> student list = <fun>\n"
      ]
     },
     "execution_count": 27,
     "metadata": {},
     "output_type": "execute_result"
    },
    {
     "data": {
      "text/plain": [
       "- : student list = []\n"
      ]
     },
     "execution_count": 27,
     "metadata": {},
     "output_type": "execute_result"
    }
   ],
   "source": [
    "let load_db filename =\n",
    "  let file = open_in filename in (* open file *)\n",
    "  try\n",
    "    let db = List.rev (read_students []) in (* keep the same student-order in file*)\n",
    "    close_in file; (* close the file *)\n",
    "    db\n",
    "  with e -> close_in file; raise e;; (* when exception also to close the file*)\n",
    "  \n",
    "load_db \"filename\";;"
   ]
  },
  {
   "cell_type": "code",
   "execution_count": 20,
   "metadata": {},
   "outputs": [
    {
     "data": {
      "text/plain": [
       "val file : in_channel = <abstr>\n"
      ]
     },
     "execution_count": 20,
     "metadata": {},
     "output_type": "execute_result"
    },
    {
     "data": {
      "text/plain": [
       "val read_grades : int -> (int * float) list -> (int * float) list = <fun>\n"
      ]
     },
     "execution_count": 20,
     "metadata": {},
     "output_type": "execute_result"
    },
    {
     "data": {
      "text/plain": [
       "val read_students : student list -> student list = <fun>\n"
      ]
     },
     "execution_count": 20,
     "metadata": {},
     "output_type": "execute_result"
    },
    {
     "data": {
      "text/plain": [
       "val load_db : string -> student list = <fun>\n"
      ]
     },
     "execution_count": 20,
     "metadata": {},
     "output_type": "execute_result"
    },
    {
     "data": {
      "text/plain": [
       "- : student list =\n",
       "[{first_name = \"Anton\"; last_name = \"Maier\"; id = 173; semester = 3;\n",
       "  grades = [(1, 1.7); (4, 2.3); (18, 3.)]};\n",
       " {first_name = \"Betty\"; last_name = \"Schmidt\"; id = 418; semester = 1;\n",
       "  grades = []};\n",
       " {first_name = \"Carla\"; last_name = \"Kurz\"; id = 223; semester = 2;\n",
       "  grades = [(1, 4.); (3, 1.); (7, 1.3); (12, 1.)]};\n",
       " {first_name = \"Denis\"; last_name = \"Uler\"; id = 19; semester = 3;\n",
       "  grades = [(1, 2.2); (7, 1.); (8, 5.)]}]\n"
      ]
     },
     "execution_count": 20,
     "metadata": {},
     "output_type": "execute_result"
    }
   ],
   "source": [
    "let file = open_in \"filename\";;\n",
    "\n",
    "let rec read_grades gc grades =\n",
    "   if gc <= 0 then List.rev grades else (* List.rev to keep the order*) \n",
    "    try\n",
    "      let line = input_line file in\n",
    "        match String.split_on_char ';' line with \n",
    "        (* then we have a list of string*)       \n",
    "           | [course_id; grade_nr] -> \n",
    "                let course_id_int = int_of_string course_id \n",
    "                in\n",
    "                let grade_float = float_of_string grade_nr\n",
    "                in\n",
    "                if course_id_int < 0 || grade_float < 1.0 || grade_float > 5.0 \n",
    "                (* invalid data *)\n",
    "                then raise Corrupt_database_file\n",
    "                else read_grades (gc - 1) ((course_id_int, grade_float) :: grades) \n",
    "                (* continute to readline*)\n",
    "           | _ -> raise Corrupt_database_file    \n",
    "    with End_of_file -> raise Corrupt_database_file;; (* when wrong then exception*)\n",
    "    \n",
    "let rec read_students db =\n",
    "    try\n",
    "      let line = input_line file  in\n",
    "      match String.split_on_char ';' line with\n",
    "        | \"\"::_ \n",
    "        | _::\"\"::_ -> raise Corrupt_database_file (* empty name - invalid*)\n",
    "        | [first_name;last_name;id_s;sem_s;gc_s] ->\n",
    "           let id = int_of_string id_s \n",
    "           in\n",
    "           let semester = int_of_string sem_s\n",
    "           in \n",
    "           let gc = int_of_string gc_s\n",
    "           in\n",
    "           if id < 0 || semester < 0 || gc < 0 || gc > 100 (* invalid data*)\n",
    "           then raise Corrupt_database_file\n",
    "           else if List.find_opt (fun s -> s.id = id) db <> None\n",
    "           (* already same on in db*)\n",
    "           then raise Corrupt_database_file\n",
    "           else\n",
    "           let grades = read_grades gc []\n",
    "           (* continue to read the grads with gc lines*)\n",
    "           in\n",
    "           let student = {first_name; last_name; id; semester; grades}\n",
    "           in\n",
    "           read_students (student :: db)\n",
    "        | _ -> raise Corrupt_database_file\n",
    "    with End_of_file -> db;;\n",
    "    \n",
    "let load_db filename =\n",
    "  let file = open_in filename in\n",
    "  try\n",
    "    let db = read_students [] |> List.rev in\n",
    "    close_in file;\n",
    "    db\n",
    "  with e -> close_in file; raise e;;\n",
    "  \n",
    "load_db \"filename\";;"
   ]
  },
  {
   "cell_type": "code",
   "execution_count": 11,
   "metadata": {},
   "outputs": [
    {
     "data": {
      "text/plain": [
       "exception Corrupt_database_file\n"
      ]
     },
     "execution_count": 11,
     "metadata": {},
     "output_type": "execute_result"
    },
    {
     "ename": "error",
     "evalue": "compile_error",
     "output_type": "error",
     "traceback": [
      "\u001b[32mFile \"[11]\", line 29, characters 42-44:\n\u001b[31mError: Unbound record field id\n\u001b[36m  28: \u001b[30m        if id < 0 || semester < 0 || gc < 0 || gc > 100 then raise Corrupt_database_file\n\u001b[36m  29: \u001b[30m        else if List.find_opt (fun s -> s.\u001b[4mid\u001b[0m\u001b[30m = id) db <> None then raise Corrupt_database_file\n\u001b[36m  30: \u001b[30m        else\u001b[0m\n"
     ]
    }
   ],
   "source": [
    "exception Corrupt_database_file;; (* declear a self-defined exception*)\n",
    "\n",
    "let load_db filename =\n",
    "  let file = open_in filename in\n",
    "  let rec read_grades gc grades =\n",
    "    if gc <= 0 then List.rev grades else\n",
    "    try\n",
    "      let line = input_line file in\n",
    "      match String.split_on_char ';' line with\n",
    "      | [course_s;grade_s] ->\n",
    "        let course,grade = (try\n",
    "        int_of_string course_s, float_of_string grade_s\n",
    "        with _ -> raise Corrupt_database_file) in\n",
    "        if course < 0 || grade < 1.0 || grade > 5.0 then raise Corrupt_database_file\n",
    "        else read_grades (gc-1) ((course,grade)::grades)\n",
    "      | _ -> raise Corrupt_database_file\n",
    "    with End_of_file -> raise Corrupt_database_file\n",
    "  in\n",
    "  let rec read_students db =\n",
    "    try\n",
    "      let line = input_line file  in\n",
    "      match String.split_on_char ';' line with\n",
    "      | \"\"::_ | _::\"\"::_ -> raise Corrupt_database_file\n",
    "      | [first_name;last_name;id_s;sem_s;gc_s] ->\n",
    "        let id,semester,gc = try\n",
    "          int_of_string id_s, int_of_string sem_s, int_of_string gc_s\n",
    "        with _ -> raise Corrupt_database_file in\n",
    "        if id < 0 || semester < 0 || gc < 0 || gc > 100 then raise Corrupt_database_file\n",
    "        else if List.find_opt (fun s -> s.id = id) db <> None then raise Corrupt_database_file\n",
    "        else\n",
    "        let grades = read_grades gc [] in\n",
    "        read_students ({ first_name; last_name; id; semester; grades }::db)\n",
    "      | _ -> raise Corrupt_database_file\n",
    "    with End_of_file -> db\n",
    "  in\n",
    "  try\n",
    "    let db = read_students [] |> List.rev in\n",
    "    close_in file;\n",
    "    db\n",
    "  with e -> close_in file; raise e;;"
   ]
  },
  {
   "cell_type": "markdown",
   "metadata": {},
   "source": [
    "$2$) Implement a function `store_db : string -> database -> unit` to store the students back to the given file."
   ]
  },
  {
   "cell_type": "code",
   "execution_count": 31,
   "metadata": {},
   "outputs": [
    {
     "data": {
      "text/plain": [
       "val store_db : string -> student list -> unit = <fun>\n"
      ]
     },
     "execution_count": 31,
     "metadata": {},
     "output_type": "execute_result"
    }
   ],
   "source": [
    "let store_db filename db =\n",
    "  let file = open_out filename in\n",
    "  let rec write_grade (c,g) = Printf.fprintf file \"%d;%.2f\\n\" c g\n",
    "  in\n",
    "  let write_student s =\n",
    "    Printf.fprintf file \"%s;%s;%d;%d;%d\\n\" s.first_name s.last_name s.id s.semester (List.length s.grades);\n",
    "    List.iter write_grade s.grades; (* like the List.map for unit *)\n",
    "  in\n",
    "  List.iter write_student db;\n",
    "  close_out file;;"
   ]
  },
  {
   "cell_type": "code",
   "execution_count": 30,
   "metadata": {},
   "outputs": [
    {
     "data": {
      "text/plain": [
       "val a55_ex1 : student list =\n",
       "  [{first_name = \"Anton\"; last_name = \"Maier\"; id = 173; semester = 3;\n",
       "    grades = [(1, 1.7); (4, 2.3); (18, 3.)]};\n",
       "   {first_name = \"Betty\"; last_name = \"Schmidt\"; id = 418; semester = 1;\n",
       "    grades = []};\n",
       "   {first_name = \"Carla\"; last_name = \"Kurz\"; id = 223; semester = 2;\n",
       "    grades = [(1, 4.); (3, 1.); (7, 1.3); (12, 1.)]};\n",
       "   {first_name = \"Denis\"; last_name = \"Uler\"; id = 19; semester = 3;\n",
       "    grades = [(1, 2.2); (7, 1.); (8, 5.)]}]\n"
      ]
     },
     "execution_count": 30,
     "metadata": {},
     "output_type": "execute_result"
    },
    {
     "data": {
      "text/plain": [
       "- : unit = ()\n"
      ]
     },
     "execution_count": 30,
     "metadata": {},
     "output_type": "execute_result"
    }
   ],
   "source": [
    "let a55_ex1 = [\n",
    "  { first_name = \"Anton\"; last_name = \"Maier\"; id=173; semester=3; grades=[1, 1.7; 4, 2.3; 18, 3.0] };\n",
    "  { first_name = \"Betty\"; last_name = \"Schmidt\"; id=418; semester=1; grades=[] };\n",
    "  { first_name = \"Carla\"; last_name = \"Kurz\"; id=223; semester=2; grades=[1, 4.0; 3, 1.0; 7, 1.3; 12, 1.0] };\n",
    "  { first_name = \"Denis\"; last_name = \"Uler\"; id=19; semester=3; grades=[1, 2.2; 7, 1.0; 8, 5.0] }\n",
    "];;\n",
    "\n",
    "store_db \"filename\" a55_ex1;;"
   ]
  },
  {
   "cell_type": "code",
   "execution_count": null,
   "metadata": {},
   "outputs": [],
   "source": []
  }
 ],
 "metadata": {
  "kernelspec": {
   "display_name": "OCaml 4.05.0",
   "language": "OCaml",
   "name": "ocaml-jupyter"
  },
  "language_info": {
   "codemirror_mode": "text/x-ocaml",
   "file_extension": ".ml",
   "mimetype": "text/x-ocaml",
   "name": "OCaml",
   "nbconverter_exporter": null,
   "pygments_lexer": "OCaml",
   "version": "4.05.0"
  }
 },
 "nbformat": 4,
 "nbformat_minor": 2
}
