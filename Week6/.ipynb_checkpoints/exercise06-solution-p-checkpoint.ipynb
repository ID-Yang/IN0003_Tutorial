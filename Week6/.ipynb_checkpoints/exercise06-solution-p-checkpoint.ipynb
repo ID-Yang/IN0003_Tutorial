{
 "cells": [
  {
   "cell_type": "markdown",
   "metadata": {},
   "source": [
    "### Assignment 6.1 (P) Explicit Type Annotation\n",
    "\n",
    "In OCaml, types are <span style=\"color:red\">**inferred automatically**</span>, so there is no need to write them down explicitly. However, types can be annotated by the programmer. Discuss:\n",
    "\n",
    "\n",
    "1) Annotate all types on the expression `let f = fun x y -> x, [y]`\n",
    "\n",
    "\n",
    "<span style=\"color:red\">**What is the signatur of this function?**</span>"
   ]
  },
  {
   "cell_type": "code",
   "execution_count": 2,
   "metadata": {},
   "outputs": [
    {
     "data": {
      "text/plain": [
       "val f : 'a -> 'b -> 'a * 'b list = <fun>\n"
      ]
     },
     "execution_count": 2,
     "metadata": {},
     "output_type": "execute_result"
    },
    {
     "data": {
      "text/plain": [
       "val f_same : 'a -> 'b -> 'a * 'b list = <fun>\n"
      ]
     },
     "execution_count": 2,
     "metadata": {},
     "output_type": "execute_result"
    },
    {
     "data": {
      "text/plain": [
       "val f_also_same : 'a -> 'b -> 'a * 'b list = <fun>\n"
      ]
     },
     "execution_count": 2,
     "metadata": {},
     "output_type": "execute_result"
    }
   ],
   "source": [
    "let f = fun x y -> x, [y];;\n",
    "\n",
    "(*As same as*)\n",
    "\n",
    "let f_same = fun x y -> (x, [y]);;\n",
    "\n",
    "let f_also_same x y = (x, [y]);;"
   ]
  },
  {
   "cell_type": "code",
   "execution_count": null,
   "metadata": {},
   "outputs": [],
   "source": [
    "let f : 'a -> 'a -> ('a * 'a list) = \n",
    "    fun (x : 'a) (y : 'a) : ('a * 'a list) -> \n",
    "        ((x : 'a), ([(x : 'a)] : 'a list) : ('a * 'a list))"
   ]
  },
  {
   "cell_type": "markdown",
   "metadata": {},
   "source": [
    "\n",
    "\n",
    "<br> <br> <br>\n",
    "\n",
    "$2$) When can explicitly annotated types helpful?"
   ]
  },
  {
   "cell_type": "markdown",
   "metadata": {},
   "source": [
    "Consider the function `let make_list a b = [a]::[b]` that is supposed to build a list containing `a` and `b`. Now you use the function in `let x = make_list 1 2` and your compiler (or IDE) reports an error on constant `2`: \n",
    "\n",
    "Error: This expression has type int but an expression was expected of type int list"
   ]
  },
  {
   "cell_type": "code",
   "execution_count": 4,
   "metadata": {},
   "outputs": [
    {
     "data": {
      "text/plain": [
       "val make_list : 'a -> 'a list -> 'a list list = <fun>\n"
      ]
     },
     "execution_count": 4,
     "metadata": {},
     "output_type": "execute_result"
    },
    {
     "ename": "error",
     "evalue": "compile_error",
     "output_type": "error",
     "traceback": [
      "\u001b[32mFile \"[4]\", line 3, characters 20-21:\n\u001b[31mError: This expression has type int but an expression was expected of type\n         int list\n\u001b[36m   2: \u001b[30m\n\u001b[36m   3: \u001b[30mlet x = make_list 1 \u001b[4m2\u001b[0m\u001b[30m;;\u001b[0m\n"
     ]
    }
   ],
   "source": [
    "let make_list a b = [a]::[b];;\n",
    "\n",
    "let x = make_list 1 2;;"
   ]
  },
  {
   "cell_type": "code",
   "execution_count": 15,
   "metadata": {},
   "outputs": [
    {
     "ename": "error",
     "evalue": "compile_error",
     "output_type": "error",
     "traceback": [
      "\u001b[32mFile \"[15]\", line 1, characters 47-48:\n\u001b[31mError: This expression has type 'a list\n       but an expression was expected of type 'a\n       The type variable 'a occurs inside 'a list\n\u001b[36m   1: \u001b[30mlet make_list (a : 'a) (b : 'a) : ('a list) = [\u001b[4ma\u001b[0m\u001b[30m]::[b];;\n\u001b[36m   2: \u001b[30m\u001b[0m\n"
     ]
    }
   ],
   "source": [
    "let make_list (a : 'a) (b : 'a) : ('a list) = [a]::[b];;"
   ]
  },
  {
   "cell_type": "markdown",
   "metadata": {},
   "source": [
    "<br> <br>\n",
    "With type inference, type errors may appear at places that may be arbitrarily far from the location where you used the wrong (unintended) types accidentally. Especially in larger programs, this can make finding the source of the error difficult if the wrong type propagates through a number of functions before it finally conflicts with some other type somewhere. In these cases, it can be useful to annotate types on function boundaries. In the above example the annotation in `let make_list (a : 'a) (b : 'a) : 'a list) = [a]::[b]` results in a much more helpful error on `[a]`: \n",
    "\n",
    "Error: This expression has type 'a list but an expression was expected of type 'a\n",
    "\n",
    "<br> <br>\n",
    "A clear disadvantage, however, is that you might have to change many annotations once you change (e.g. generalize) the types of your functions  \n",
    "\n",
    "<span style=\"color:red\">**I do not courage you to do so. But maybe good to know that**</span>"
   ]
  },
  {
   "cell_type": "code",
   "execution_count": 18,
   "metadata": {},
   "outputs": [
    {
     "data": {
      "text/plain": [
       "val int_list_insert : int -> int list -> int list = <fun>\n"
      ]
     },
     "execution_count": 18,
     "metadata": {},
     "output_type": "execute_result"
    },
    {
     "data": {
      "text/plain": [
       "val float_list_insert : float -> float list -> float list = <fun>\n"
      ]
     },
     "execution_count": 18,
     "metadata": {},
     "output_type": "execute_result"
    }
   ],
   "source": [
    "let int_list_insert (x : int) (l : int list) = x :: l;;\n",
    "\n",
    "let float_list_insert (x : float) (l : float list) = x :: l;;"
   ]
  },
  {
   "cell_type": "markdown",
   "metadata": {},
   "source": [
    "<br> <br> <br> <br>\n",
    "<span style=\"color:red\">**Let recap what we talked about last week  - The types and the inside local functions **</span>\n",
    "\n",
    "### Assignment 6.2 (P) Local Binding\n",
    "\n",
    "Local (variable) bindings can be used to give names to intermediate results or helper functions inside other expressions (e.g. functions) such that they can be reused. Furthermore, they allow you to split your computation into smaller steps.\n",
    "\n",
    "In the following expression, mark all subexpressions and for each use of a variable, decide where this variable is defined and what its value is during the evaluation of this expression.\n",
    "\n",
    "<br>\n",
    "<span style=\"color:red\">**How time for you.**</span>  \n",
    "<span style=\"color:red\">**Good to think out which is the funtion, which is the variable?**</span>  \n"
   ]
  },
  {
   "cell_type": "code",
   "execution_count": 20,
   "metadata": {},
   "outputs": [
    {
     "data": {
      "text/plain": [
       "val x : int list = [1; 3; 2; 2; 3; 2; 2]\n"
      ]
     },
     "execution_count": 20,
     "metadata": {},
     "output_type": "execute_result"
    }
   ],
   "source": [
    "let x =\n",
    "    let f x y =\n",
    "        let x = 2 * x in\n",
    "        let y = y::[x] in\n",
    "        let y x =\n",
    "            let y = x::y in\n",
    "            y @ y\n",
    "        in\n",
    "        let x = y 3 in\n",
    "        1::x\n",
    "    in \n",
    "    f 1 2;;"
   ]
  },
  {
   "cell_type": "markdown",
   "metadata": {},
   "source": [
    "<span style=\"color:red\">**Hmm That is only educational usage to push you learn things from this mixed up $x$ and $y$**   \n",
    "Functions: only one $y$ with `let y x`</span>\n",
    "\n",
    "<span style=\"color:red\">\n",
    "<br>\n",
    "How to analyze this one?  (With whiteboard)  \n",
    "I think we can start to think about `f 1 2` and where is the `f`?  \n",
    "...   \n",
    "The last thing is the `x1`, which is the result of the `f 1 2`.</span>\n"
   ]
  },
  {
   "cell_type": "code",
   "execution_count": 19,
   "metadata": {},
   "outputs": [
    {
     "data": {
      "text/plain": [
       "val x : int list = [1; 3; 2; 2; 3; 2; 2]\n"
      ]
     },
     "execution_count": 19,
     "metadata": {},
     "output_type": "execute_result"
    }
   ],
   "source": [
    "let x (*x1*) =                                     (* x1 = [1;3;2;2;3;2;2] *)\n",
    "    let f x(*x2*) y(*y2*) =                        (* x2 = 1, y2 = 2 *)\n",
    "        let x(*x3*) = 2 * x(*x2*) in               (* x3 = 2 *)\n",
    "        let y(*y4*) = y(*y2*)::[x(*x3*)] in        (* y4 = [2;2] *)\n",
    "        let y(*y5*) x(*x5*) =                      (* x5 = 3, y5 = fun x -> ... *)\n",
    "            let y(*y6*) = x(*x5*)::y(*y4*) in      (* y6 = [3;2;2] *)\n",
    "            y(*y6a*) @ y(*y6*)                      (* [3;2;2;3;2;2] *)\n",
    "        in\n",
    "        let x(*x8*) = y(*y5*) 3 in                 (* x8 = [3;2;2;3;2;2] *)\n",
    "        1::x(*x8*)                                 (* [1;3;2;2;3;2;2] *)\n",
    "    in \n",
    "    f 1 2                                          (* [1;3;2;2;3;2;2] *);;"
   ]
  },
  {
   "cell_type": "markdown",
   "metadata": {},
   "source": [
    "\n",
    "<br> <br>\n",
    "<span style=\"color:red\">**Now simple data structure**</span>\n",
    "### Assignment 6.3 (P) Binary Search Trees\n",
    "\n",
    "In this assignment, a collection to organize integers shall be implemented via binary search trees.\n",
    "\n",
    "1) Define a suitable data type for binary trees that store integers.\n",
    "\n",
    "<span style=\"color:red\">**Explanation:  \n",
    "  In a tree we have a node with information (here as int) and the empty node, which is the bottom of the tree**  \n",
    "  So the `Node` and `Empty` are part of `tree`.\n",
    "</span>"
   ]
  },
  {
   "cell_type": "code",
   "execution_count": 3,
   "metadata": {},
   "outputs": [
    {
     "data": {
      "text/plain": [
       "type tree = Node of int * tree * tree | Empty\n"
      ]
     },
     "execution_count": 3,
     "metadata": {},
     "output_type": "execute_result"
    }
   ],
   "source": [
    "type tree = Node of int * tree * tree | Empty"
   ]
  },
  {
   "cell_type": "markdown",
   "metadata": {},
   "source": [
    "<br> <br> <br>\n",
    "$2$) Define a binary tree `t1` containing the values $1, 6, 8, 9, 12, 42$  \n",
    "<span style=\"color:red\">**With assumption: 9 is at the top of the tree. So the left nodes are number less then 9, the right nodes are number greater than 9**\n",
    "</span>"
   ]
  },
  {
   "cell_type": "code",
   "execution_count": 8,
   "metadata": {},
   "outputs": [
    {
     "data": {
      "text/plain": [
       "val t1 : tree =\n",
       "  Node (9, Node (6, Node (1, Empty, Empty), Node (8, Empty, Empty)),\n",
       "   Node (42, Node (12, Empty, Empty), Empty))\n"
      ]
     },
     "execution_count": 8,
     "metadata": {},
     "output_type": "execute_result"
    }
   ],
   "source": [
    "let t1 = Node (9, \n",
    "           Node (6, \n",
    "             Node (1, Empty, Empty), \n",
    "             Node (8, Empty, Empty)\n",
    "           ),\n",
    "           Node (42, \n",
    "             Node (12, Empty, Empty), \n",
    "             Empty\n",
    "           )\n",
    "         )"
   ]
  },
  {
   "cell_type": "markdown",
   "metadata": {},
   "source": [
    "<br> <br> <br>\n",
    "\n",
    "3) Implement a function `to_list : tree -> int list` that returns an ordered list of all values in the tree.   \n",
    "<span style=\"color:red\">**Like a list $1, 6, 8, 9, 12, 42$.** So first element is the smallest element\n",
    "</span>\n",
    "\n"
   ]
  },
  {
   "cell_type": "code",
   "execution_count": 27,
   "metadata": {},
   "outputs": [
    {
     "data": {
      "text/plain": [
       "- : 'a list -> 'a list -> 'a list = <fun>\n"
      ]
     },
     "execution_count": 27,
     "metadata": {},
     "output_type": "execute_result"
    },
    {
     "data": {
      "text/plain": [
       "- : int list = [1; 2]\n"
      ]
     },
     "execution_count": 27,
     "metadata": {},
     "output_type": "execute_result"
    },
    {
     "data": {
      "text/plain": [
       "val to_list : tree -> int list = <fun>\n"
      ]
     },
     "execution_count": 27,
     "metadata": {},
     "output_type": "execute_result"
    },
    {
     "data": {
      "text/plain": [
       "- : int list = [1; 6; 8; 9; 12; 42]\n"
      ]
     },
     "execution_count": 27,
     "metadata": {},
     "output_type": "execute_result"
    }
   ],
   "source": [
    "(@);;\n",
    "\n",
    "[1; 2 ] @ [3; 4; 5];;\n",
    "\n",
    "let rec to_list t = \n",
    "    match t with Empty -> []\n",
    "               | Node (v, l, r) -> (to_list l) @ (v :: to_list r);;\n",
    "               \n",
    "to_list t1;;"
   ]
  },
  {
   "cell_type": "markdown",
   "metadata": {},
   "source": [
    "<br> <br> <br>\n",
    "\n",
    "<span style=\"color:red\">**Since it is a BINARY SERACH TREE. I have an additional exercise for you**  \n",
    "  Write a `exist : int -> tree > bool` function.\n",
    "  \n",
    "</span>"
   ]
  },
  {
   "cell_type": "code",
   "execution_count": 11,
   "metadata": {},
   "outputs": [
    {
     "data": {
      "text/plain": [
       "val exist : int -> tree -> bool = <fun>\n"
      ]
     },
     "execution_count": 11,
     "metadata": {},
     "output_type": "execute_result"
    },
    {
     "data": {
      "text/plain": [
       "- : tree =\n",
       "Node (9, Node (6, Node (1, Empty, Empty), Node (8, Empty, Empty)),\n",
       " Node (42, Node (12, Empty, Empty), Empty))\n"
      ]
     },
     "execution_count": 11,
     "metadata": {},
     "output_type": "execute_result"
    },
    {
     "data": {
      "text/plain": [
       "- : bool = true\n"
      ]
     },
     "execution_count": 11,
     "metadata": {},
     "output_type": "execute_result"
    },
    {
     "data": {
      "text/plain": [
       "- : bool = true\n"
      ]
     },
     "execution_count": 11,
     "metadata": {},
     "output_type": "execute_result"
    },
    {
     "data": {
      "text/plain": [
       "- : bool = true\n"
      ]
     },
     "execution_count": 11,
     "metadata": {},
     "output_type": "execute_result"
    },
    {
     "data": {
      "text/plain": [
       "- : bool = false\n"
      ]
     },
     "execution_count": 11,
     "metadata": {},
     "output_type": "execute_result"
    }
   ],
   "source": [
    "let rec exist value tree =\n",
    "       match tree with Empty -> false\n",
    "                     | Node (v, l, r) -> if v = value then true \n",
    "                                         else if v > value then exist value l\n",
    "                                         else exist value r;;\n",
    "\n",
    "t1;;\n",
    "exist 9 t1;;\n",
    "exist 12 t1;;\n",
    "exist 1 t1;;\n",
    "exist 500 t1;;\n",
    "\n",
    "(* Is not the best version, if we learn the option, we can try to do a better one!*)"
   ]
  },
  {
   "cell_type": "markdown",
   "metadata": {},
   "source": [
    "\n",
    "<br> <br> <br>\n",
    "4) Implement a function `insert : int -> tree -> tree` which inserts a value into the tree. If the value exists already, the tree is not modified."
   ]
  },
  {
   "cell_type": "code",
   "execution_count": 12,
   "metadata": {},
   "outputs": [
    {
     "data": {
      "text/plain": [
       "val insert : int -> tree -> tree = <fun>\n"
      ]
     },
     "execution_count": 12,
     "metadata": {},
     "output_type": "execute_result"
    },
    {
     "data": {
      "text/plain": [
       "val insert : int -> tree -> tree = <fun>\n"
      ]
     },
     "execution_count": 12,
     "metadata": {},
     "output_type": "execute_result"
    },
    {
     "data": {
      "text/plain": [
       "- : tree =\n",
       "Node (9, Node (6, Node (1, Empty, Empty), Node (8, Empty, Empty)),\n",
       " Node (42, Node (12, Empty, Empty), Empty))\n"
      ]
     },
     "execution_count": 12,
     "metadata": {},
     "output_type": "execute_result"
    },
    {
     "data": {
      "text/plain": [
       "- : tree =\n",
       "Node (9, Node (6, Node (1, Empty, Empty), Node (8, Empty, Empty)),\n",
       " Node (42, Node (12, Node (10, Empty, Empty), Empty), Empty))\n"
      ]
     },
     "execution_count": 12,
     "metadata": {},
     "output_type": "execute_result"
    }
   ],
   "source": [
    "let rec my_insert value tree = \n",
    "                  match tree with Empty -> Node (value, Empty, Empty)\n",
    "                                | Node (v, l, r) -> if v > value then Node(v, insert value l, r)\n",
    "                                                    else if v < value then Node (v, l, insert value r)\n",
    "                                                    else Node (v, l, r);;\n",
    "\n",
    "\n",
    "let rec insert x t = \n",
    "     match t with Empty -> Node (x, Empty, Empty)\n",
    "                | Node (v, l, r) -> if x < v then Node (v, insert x l, r) \n",
    "                                    else if x > v then Node (v, l, insert x r)\n",
    "                                    else t;;\n",
    "                                    \n",
    "t1;;\n",
    "insert 10 t1;;"
   ]
  },
  {
   "cell_type": "markdown",
   "metadata": {},
   "source": [
    "\n",
    "<br> <br> <br>\n",
    "5) Implement a function `remove : int -> tree -> tree` to remove a value (if it exists) from the tree."
   ]
  },
  {
   "cell_type": "code",
   "execution_count": 47,
   "metadata": {},
   "outputs": [
    {
     "ename": "error",
     "evalue": "compile_error",
     "output_type": "error",
     "traceback": [
      "\u001b[32mFile \"[47]\", line 6, characters 45-49:\n\u001b[31mError: Syntax error\n\u001b[36m   5: \u001b[30m                      | Node(v, l, r) -> if v = value then (*Hmmm*)\n\u001b[36m   6: \u001b[30m                                             \u001b[4melse\u001b[0m\u001b[30m if value < v then Node(v, remove value l, r)\n\u001b[36m   7: \u001b[30m                                             else Node(v, l, remove value r);;\u001b[0m\n"
     ]
    }
   ],
   "source": [
    "let rec remove value tree = \n",
    "            match tree with Empty -> Empty\n",
    "                          | Node (v, Empty, Empty) -> if v = value then Empty else Node (v, Empty, Empty)\n",
    "                          | Node (v, l, r) -> if v > value then Node(v, remove value l, r)\n",
    "                                              else v < value then Node(v, l, remove value r)\n",
    "                             (*v = value*)    else Node( , l , r);;\n",
    "(* Call a new function give me the new head and a modified branch of the tree*)\n",
    "(* Now to write this function*)\n",
    "\n",
    "\n",
    "(* Here is just a consideration, that we notice that we should take the max of left or the min of the right*)\n",
    "let rec remove value tree = \n",
    "        match tree with Empty -> Empty\n",
    "                      | Node(v, Empty, Empty) -> if v = value then Empty else Node(v, Empty, Empty)\n",
    "                      | Node(v, l, r) -> if v = value then (*Hmmm we lost the \"header\" of our tree*)\n",
    "                                             else if value < v then Node(v, remove value l, r)\n",
    "                                             else Node(v, l, remove value r);;\n",
    "(*We need pull up the greatest Node of the left branch\n",
    "Or pull up the smallest Node of the right branch\n",
    "Otherwise we will lost the \"header\" of our tree, and the left and right trees are left seperately*)"
   ]
  },
  {
   "cell_type": "code",
   "execution_count": 18,
   "metadata": {},
   "outputs": [
    {
     "data": {
      "text/plain": [
       "val remove_min_from_right : tree -> int * tree = <fun>\n"
      ]
     },
     "execution_count": 18,
     "metadata": {},
     "output_type": "execute_result"
    },
    {
     "data": {
      "text/plain": [
       "val remove_min_from_right : tree -> int * tree = <fun>\n"
      ]
     },
     "execution_count": 18,
     "metadata": {},
     "output_type": "execute_result"
    },
    {
     "data": {
      "text/plain": [
       "val remove : int -> tree -> tree = <fun>\n"
      ]
     },
     "execution_count": 18,
     "metadata": {},
     "output_type": "execute_result"
    },
    {
     "data": {
      "text/plain": [
       "- : tree =\n",
       "Node (9, Node (6, Node (1, Empty, Empty), Node (8, Empty, Empty)),\n",
       " Node (42, Node (12, Empty, Empty), Empty))\n"
      ]
     },
     "execution_count": 18,
     "metadata": {},
     "output_type": "execute_result"
    },
    {
     "ename": "error",
     "evalue": "compile_error",
     "output_type": "error",
     "traceback": [
      "\u001b[32mFile \"[18]\", line 34, characters 0-7:\n\u001b[31mError: Unbound value mremove\nHint: Did you mean remove?\n\u001b[36m  33: \u001b[30mt1;;\n\u001b[36m  34: \u001b[30m\u001b[4mmremove\u001b[0m\u001b[30m 9 t1;;\u001b[0m\n"
     ]
    }
   ],
   "source": [
    "(*We can take the smallest node of the right branch, at the place we found the node to delete*)\n",
    "let rec remove_min_from_right tree = \n",
    "                match tree with Empty -> failwith \"Not gonna happen\"\n",
    "                              | Node (v, Empty, r) -> (v, r)\n",
    "                              | Node (v, l, r) -> \n",
    "                                    let (v', l') = remove_min_from_right l in\n",
    "                                     (v', Node(v, l', r));;\n",
    "\n",
    "\n",
    "\n",
    "\n",
    "\n",
    "\n",
    "let rec remove_min_from_right tree = \n",
    "            match tree with Empty -> failwith \"Not gonna happen\"\n",
    "                          | Node (v, Empty, r) -> (v, r)\n",
    "                          | Node (v, l, r) -> \n",
    "                               let (v', l') = remove_min_from_right l in \n",
    "                               (* go left to find the smallest*)\n",
    "                               (* also modify the left brance -- pull up*)\n",
    "                               (v', Node(v, l', r));;\n",
    "\n",
    "let rec remove value tree = \n",
    "            match tree with Empty -> Empty\n",
    "                          | Node (v, Empty, Empty) -> if v = value then Empty else Node (v, Empty, Empty)\n",
    "                          | Node (v, l, r) -> if v > value then Node(v, remove value l, r)\n",
    "                                              else if v < value then Node(v, l, remove value r)\n",
    "                             (*v = value*)    else \n",
    "                             let (v', r') = remove_min_from_right r in\n",
    "                                              Node(v', l , r');;\n",
    "\n",
    "\n",
    "t1;;\n",
    "remove 9 t1;;                                           "
   ]
  },
  {
   "cell_type": "code",
   "execution_count": 42,
   "metadata": {},
   "outputs": [
    {
     "data": {
      "text/plain": [
       "val remove_max : tree -> int * tree = <fun>\n"
      ]
     },
     "execution_count": 42,
     "metadata": {},
     "output_type": "execute_result"
    },
    {
     "data": {
      "text/plain": [
       "val remove : int -> tree -> tree = <fun>\n"
      ]
     },
     "execution_count": 42,
     "metadata": {},
     "output_type": "execute_result"
    },
    {
     "data": {
      "text/plain": [
       "- : tree =\n",
       "Node (9, Node (6, Node (1, Empty, Empty), Node (8, Empty, Empty)),\n",
       " Node (42, Node (12, Empty, Empty), Empty))\n"
      ]
     },
     "execution_count": 42,
     "metadata": {},
     "output_type": "execute_result"
    },
    {
     "data": {
      "text/plain": [
       "- : int * tree =\n",
       "(42,\n",
       " Node (9, Node (6, Node (1, Empty, Empty), Node (8, Empty, Empty)),\n",
       "  Node (12, Empty, Empty)))\n"
      ]
     },
     "execution_count": 42,
     "metadata": {},
     "output_type": "execute_result"
    },
    {
     "data": {
      "text/plain": [
       "- : tree =\n",
       "Node (8, Node (6, Node (1, Empty, Empty), Empty),\n",
       " Node (42, Node (12, Empty, Empty), Empty))\n"
      ]
     },
     "execution_count": 42,
     "metadata": {},
     "output_type": "execute_result"
    }
   ],
   "source": [
    "let rec remove_max t = match t with Empty -> failwith \"unreachable\"\n",
    "    | Node (v, l, Empty) -> v, l\n",
    "    | Node (v, l, r) -> let v',r' = remove_max r in v',Node (v, l, r');;\n",
    "    \n",
    "let rec remove x t = \n",
    "        match t with Empty -> Empty\n",
    "                   | Node (v, l, r) -> if x < v then Node (v, remove x l, r)\n",
    "                                       else if x > v then Node (v, l, remove x r)\n",
    "                                       else if l = Empty then r else \n",
    "                                       let v',l' = remove_max l in \n",
    "                                       Node (v', l', r);;\n",
    "                                       \n",
    "t1;;\n",
    "remove_max t1;;\n",
    "remove 9 t1;;"
   ]
  },
  {
   "cell_type": "markdown",
   "metadata": {},
   "source": [
    "### Assignment 6.4 (P) The List Module (part 1)\n",
    "\n",
    "Check the documentation of the OCaml `List` module and find out what the following functions do. Then implement them yourself. Make sure your implementations have the same type. In cases where the standard functions throw exceptions, you may just `failwith \"invalid\"`."
   ]
  },
  {
   "cell_type": "code",
   "execution_count": 35,
   "metadata": {},
   "outputs": [
    {
     "data": {
      "text/plain": [
       "val hd : 'a list -> 'a = <fun>\n"
      ]
     },
     "execution_count": 35,
     "metadata": {},
     "output_type": "execute_result"
    },
    {
     "data": {
      "text/plain": [
       "val tl : 'a list -> 'a list = <fun>\n"
      ]
     },
     "execution_count": 35,
     "metadata": {},
     "output_type": "execute_result"
    },
    {
     "data": {
      "text/plain": [
       "val length : 'a list -> int = <fun>\n"
      ]
     },
     "execution_count": 35,
     "metadata": {},
     "output_type": "execute_result"
    },
    {
     "data": {
      "text/plain": [
       "val append : 'a list -> 'a list -> 'a list = <fun>\n"
      ]
     },
     "execution_count": 35,
     "metadata": {},
     "output_type": "execute_result"
    },
    {
     "data": {
      "text/plain": [
       "val rev : 'a list -> 'a list = <fun>\n"
      ]
     },
     "execution_count": 35,
     "metadata": {},
     "output_type": "execute_result"
    },
    {
     "data": {
      "text/plain": [
       "val rev : 'a list -> 'a list = <fun>\n"
      ]
     },
     "execution_count": 35,
     "metadata": {},
     "output_type": "execute_result"
    },
    {
     "data": {
      "text/plain": [
       "val nth : 'a list -> int -> 'a = <fun>\n"
      ]
     },
     "execution_count": 35,
     "metadata": {},
     "output_type": "execute_result"
    }
   ],
   "source": [
    "let hd l = match l with [] -> failwith \"invalid\" | x::_ -> x\n",
    "(* or: let hd (x::xs) = x *)\n",
    "\n",
    "let tl l = match l with [] -> failwith \"invalid\" | _::xs -> xs\n",
    "(* or: let tl (x::xs) = xs *)\n",
    "\n",
    "let rec length = function [] -> 0 | _::xs -> 1 + length xs\n",
    "\n",
    "let rec append l1 l2 = match l1 with [] -> l2 | x::xs -> x::append xs l2\n",
    "(* @ *)\n",
    "\n",
    "let rec rev = function [] -> [] | x::xs -> (rev xs)@[x]\n",
    "(* or better: *)\n",
    "let rev l = \n",
    "    let rec impl acc = function [] -> acc | x::xs -> impl (x::acc) xs\n",
    "    in impl [] l\n",
    "\n",
    "let rec nth l n = match l with [] -> failwith \"invalid\" \n",
    "    | x::xs -> if n <= 0 then x else nth xs (n-1)"
   ]
  },
  {
   "cell_type": "code",
   "execution_count": null,
   "metadata": {},
   "outputs": [],
   "source": []
  }
 ],
 "metadata": {
  "kernelspec": {
   "display_name": "OCaml 4.05.0",
   "language": "OCaml",
   "name": "ocaml-jupyter"
  },
  "language_info": {
   "codemirror_mode": "text/x-ocaml",
   "file_extension": ".ml",
   "mimetype": "text/x-ocaml",
   "name": "OCaml",
   "nbconverter_exporter": null,
   "pygments_lexer": "OCaml",
   "version": "4.05.0"
  }
 },
 "nbformat": 4,
 "nbformat_minor": 2
}
