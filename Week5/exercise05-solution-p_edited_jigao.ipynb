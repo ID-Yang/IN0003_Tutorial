{
 "cells": [
  {
   "cell_type": "markdown",
   "metadata": {},
   "source": [
    "<span style=\"color:red\">**I use my comment with red text like this**</span>  \n",
    "<span style=\"color:red\">**You can install jupyter notebook**</span>   \n",
    "<span style=\"color:red\">**Just try to search \"jupyter notebook ocaml\" in github**</span>   \n",
    " \n",
    "\n",
    "# Assignment 5.1 (P): Getting Started\n",
    "\n",
    "Have a quick look at the following OCaml tools.\n",
    "\n",
    "## REPLs (Read Eval Print Loops)\n",
    "\n",
    "### ocaml\n",
    "\n",
    "Simply type your OCaml code. If you want the REPL to execute your code, type `;;`. Execute the content of a .ml file with `#use \"<filename>\"`. To exit the REPL enter `#quit` or type `Ctrl + D`. Note that `#use`, `quit` as well as `;;` are special sequences recognized by the REPL and are not part of OCaml (so do not use them in a .ml file).\n",
    "\n",
    "### utop\n",
    "<span style=\"color:red\">**A good tool if you want to try some small function.**</span>  \n",
    "utop works in the same way as ocaml, but is more comfortable as it comes with autocompletion, for example, and allows you to change or redo previously typed code much more easily.\n",
    "## IDEs\n",
    "\n",
    "### Visual Studio Code\n",
    "\n",
    "Visual Studio Code is a free full-fledged integrated development environment for a lot of programming languages, due to its great extensibility and rich set of existing extensions. The OCaml plugin together with merlin and ocp-indent provides great utilities\n",
    "\n",
    "* syntax highlighting\n",
    "* autocompletion\n",
    "* smart identation\n",
    "* peek and goto definition\n",
    "* type information \n",
    "* immediate error reports\n",
    "* integrated terminal\n",
    "* and much more ...\n",
    "\n",
    "## Compilers\n",
    "\n",
    "### ocamlc\n",
    "\n",
    "ocamlc is a basic ocaml compiler. When invoked as `ocamlc <file-0> ... <file-n>` it compiles all files into an executable named `a.out`. During this process, `.cmi` and `.cmo` files are generated, representing the compiled interface and object files respectively. Check the documentation (http://caml.inria.fr/pub/docs/manual-ocaml-4.00/manual022.html#toc86) for a list of all command line options and more advanced build steps.\n",
    "\n",
    "### ocamlbuild\n",
    "\n",
    "ocamlbuild is a more convenient compilation utility, as it resolves and compiles dependencies automatically. In order to build your project with ocamlbuild, simply compile your main file `<file>.ml` with either `ocamlbuild <file>.d.byte` or `ocambuild <file>.native` to produce bytecode (with debug information) or native code, respectively. Check the documentation (https://ocaml.org/learn/tutorials/ocamlbuild/) for more details.\n"
   ]
  },
  {
   "cell_type": "markdown",
   "metadata": {},
   "source": [
    "# Assignment 5.2 (P) Expressions\n",
    "\n",
    "So far, you learned about the following types of expressions:\n",
    "* Constants\n",
    "* Variables\n",
    "* Unary operators\n",
    "* Binary operators\n",
    "* Tuples\n",
    "* Records\n",
    "* Lists\n",
    "* If-then-else\n",
    "* Pattern matching\n",
    "* Function definition\n",
    "* Function application\n",
    "* Variable binding\n",
    "\n",
    "Perform the following tasks:\n",
    "1. For each of these expressions, give the general structure and two concrete examples with different subexpressions."
   ]
  },
  {
   "cell_type": "markdown",
   "metadata": {},
   "source": [
    "* Constants: $c$ e.g. `7`, `true`  \n",
    "<br>\n",
    "* Variables: $v$ e.g. `a`, `my_function`  \n",
    "<br>\n",
    "* Unary operators: $op \\; e$ e.g. `-x`, `not true`  \n",
    "<br>\n",
    "* Binary operators: $e_0 \\; op \\; e_1$ e.g. `3 + a`, `x = -y`  \n",
    "<br>\n",
    "* Tuples: $e_0, \\dotsc, e_n$, e.g. `2, x`, `false, 2 + 4, a, my_function`  \n",
    "<span style=\"color:red\">**You can also use (...) in tuples, but they are optional.**</span> \n",
    "<br>\n",
    "* Records (definition): $\\{ attr_0 = e_0; \\dotsc attr_n = e_n \\}$, e.g. `{ width = 7; height = x - 2 }` (note that a record type with these attributes must be declared)  \n",
    "<span style=\"color:red\">**Like a class, which can generalize the objects**</span> \n",
    "<br>\n",
    "* Records (access): $e_0.e_1$ e.g. `size.width`, `{ age = 12 }.age`  \n",
    "<br>\n",
    "* Lists: $e_0 :: e_1$ (resp. $[ e_0, \\dotsc, e_n]$, e.g. `2::[]`, `[1,2;3,4;5,6]`  \n",
    "<span style=\"color:red\">**We always use this, but array not so often.**</span> \n",
    "<br>\n",
    "* if-then-else: $\\mbox{if} \\; e_0 \\; \\mbox{then} \\; e_1 \\; \\mbox{else} \\; e_2$, e.g. `if x > 0 then 2 else -4`, `if a = b then 1.0, 'a' else -0.5, 'b'`  \n",
    "<br>\n",
    "* Pattern matching: $\\mbox{match} \\; e \\; \\mbox{with} \\; pat_0 \\;\\to \\;e_0 \\; | \\; \\dotsc \\; | \\; pat_n \\; \\to \\; e_n$, e.g. `match a with [] -> 1 | x::_ -> x`, `match x,y with 0,0 -> \"\" | 1,_ -> \"x\" | _ -> \"abc\"`  \n",
    "<br>\n",
    "* Function definition: $\\mbox{fun} \\; arg_0 \\; \\dotsc \\; arg_n \\; \\to e$, e.g. `fun x -> 2`, `fun a b c -> a + b - c`  \n",
    "<span style=\"color:red\">**They are anonymous functions**</span> \n",
    "<br>\n",
    "* Function application: $e \\; e_0$ (resp. $e \\; e_0 \\; \\dotsc \\; e_n$), e.g. `f 2`, `(fun x -> 0) (1::[])`   \n",
    "<span style=\"color:red\">**The second one is how we apply the anonymous functions**</span> \n",
    "<br>   \n",
    "\n",
    "\n",
    "* Variable binding: $\\mbox{let} \\; name = e_0 \\; \\mbox{in} \\; e_1$, e.g. `let x = 4 in x * x`, `let f = fun a -> a + 2 in f 7`  \n",
    "<span style=\"color:red\">**We call x = ...  a variable binding in the Functional Programming, there are some difference between it and the variable decleration in Java. You can google that. But this difference is not exam relevant**</span> \n"
   ]
  },
  {
   "cell_type": "markdown",
   "metadata": {},
   "source": [
    "<br><br><br>\n",
    "$2$. For these expression, list all contained subexpressions and give their corresponding type. Then evaluate the expression:"
   ]
  },
  {
   "cell_type": "code",
   "execution_count": 2,
   "metadata": {},
   "outputs": [
    {
     "data": {
      "text/plain": [
       "- : int list = [5]\n"
      ]
     },
     "execution_count": 2,
     "metadata": {},
     "output_type": "execute_result"
    }
   ],
   "source": [
    "(* a *) let a = fun x y -> x + 2 in a 3 8 :: []"
   ]
  },
  {
   "cell_type": "code",
   "execution_count": 2,
   "metadata": {},
   "outputs": [
    {
     "data": {
      "text/plain": [
       "- : int list * bool * (char * int) = ([4], true, ('a', 7))\n"
      ]
     },
     "execution_count": 2,
     "metadata": {},
     "output_type": "execute_result"
    }
   ],
   "source": [
    "(* b *) ((fun x -> x::[]) (9 - 5), true, ('a', 7))"
   ]
  },
  {
   "cell_type": "raw",
   "metadata": {},
   "source": [
    "(* a *) let a = fun x y -> x + 2 in a 3 8 :: []    : int list                       \n",
    "                fun x y -> x + 2                   : int -> 'a -> int\n",
    "                           x + 2                   : int\n",
    "                           x                       : int\n",
    "                               2                   : int\n",
    "                                    a 3 8 :: []    : int list\n",
    "                                    a 3 8          : int\n",
    "                                    a              : int -> 'a -> int\n",
    "                                      3            : int\n",
    "                                        8          : int\n",
    "                                             []    : int list\n",
    "        (* value = [5] *)\n",
    "                                             \n",
    "(* b *) ((fun x -> x::[]) (9 - 5), true, ('a', 7)) : int list * bool * (char * int)\n",
    "         (fun x -> x::[]) (9 - 5)                  : int list\n",
    "          fun x -> x::[]                           : 'a -> 'a list\n",
    "                   x::[]                           : 'a list\n",
    "                   x                               : 'a\n",
    "                      []                           : 'a list\n",
    "                           9 - 5                   : int\n",
    "                           9                       : int\n",
    "                               5                   : int\n",
    "                                   true            : bool\n",
    "                                          'a', 7   : char * int\n",
    "                                          'a'      : char\n",
    "                                               7   : int\n",
    "        (* value = ([4], true, ('a', 7)) *)\n",
    "                "
   ]
  },
  {
   "cell_type": "markdown",
   "metadata": {},
   "source": [
    "# Assignment 5.3 (P): What's the point?\n",
    "\n",
    "In this assignment, you are supposted to implement some functionalities to compute with 3-dimensional vectors. \n",
    "\n",
    "1. Define a suitable data type for your point."
   ]
  },
  {
   "cell_type": "code",
   "execution_count": 5,
   "metadata": {},
   "outputs": [
    {
     "data": {
      "text/plain": [
       "type vector3 = float * float * float\n"
      ]
     },
     "execution_count": 5,
     "metadata": {},
     "output_type": "execute_result"
    },
    {
     "data": {
      "text/plain": [
       "type vector4 = float * float * float * float\n"
      ]
     },
     "execution_count": 5,
     "metadata": {},
     "output_type": "execute_result"
    },
    {
     "data": {
      "text/plain": [
       "type my_int = int\n"
      ]
     },
     "execution_count": 5,
     "metadata": {},
     "output_type": "execute_result"
    }
   ],
   "source": [
    "type vector3 = float * float * float;;\n",
    "\n",
    "type vector4 = float * float * float * float;;\n",
    "\n",
    "type my_int = int;;"
   ]
  },
  {
   "cell_type": "markdown",
   "metadata": {},
   "source": [
    "<br><br><br>\n",
    "$2$. Define three points `p1`, `p2` and `p3` with different values."
   ]
  },
  {
   "cell_type": "code",
   "execution_count": 8,
   "metadata": {},
   "outputs": [
    {
     "data": {
      "text/plain": [
       "val p1 : float * float * float = (-2.5, 5., 0.2)\n"
      ]
     },
     "execution_count": 8,
     "metadata": {},
     "output_type": "execute_result"
    },
    {
     "data": {
      "text/plain": [
       "val p2 : float * float * float = (0., 0., 13.1)\n"
      ]
     },
     "execution_count": 8,
     "metadata": {},
     "output_type": "execute_result"
    },
    {
     "data": {
      "text/plain": [
       "val p3 : float * float * float = (5.4, -8.2, 1.)\n"
      ]
     },
     "execution_count": 8,
     "metadata": {},
     "output_type": "execute_result"
    },
    {
     "data": {
      "text/plain": [
       "val my_vector : float * float * float = (1., 1., 1.)\n"
      ]
     },
     "execution_count": 8,
     "metadata": {},
     "output_type": "execute_result"
    },
    {
     "data": {
      "text/plain": [
       "val my_vector_with_p : float * float * float = (0., 0., 0.)\n"
      ]
     },
     "execution_count": 8,
     "metadata": {},
     "output_type": "execute_result"
    },
    {
     "data": {
      "text/plain": [
       "val same_vector : float * float * float = (0., 0., 0.)\n"
      ]
     },
     "execution_count": 8,
     "metadata": {},
     "output_type": "execute_result"
    }
   ],
   "source": [
    "let p1 = -2.5, 5.0, 0.2\n",
    "let p2 = 0.0, 0.0, 13.1\n",
    "let p3 = 5.4, -8.2, 1.0\n",
    "\n",
    "let my_vector =  1.0, 1.0, 1.0;;\n",
    "let my_vector_with_p = (0., 0., 0.);;\n",
    "let same_vector = 0., 0., 0.;; "
   ]
  },
  {
   "cell_type": "markdown",
   "metadata": {},
   "source": [
    "<span style=\"color:red\">**Using the (...) is same, for me it is more readable. BUT THEY CREATE THE SAME TUPELS\n",
    " **</span> "
   ]
  },
  {
   "cell_type": "code",
   "execution_count": 32,
   "metadata": {},
   "outputs": [
    {
     "data": {
      "text/plain": [
       "val p1 : float * float * float = (-2.5, 5., 0.2)\n"
      ]
     },
     "execution_count": 32,
     "metadata": {},
     "output_type": "execute_result"
    },
    {
     "data": {
      "text/plain": [
       "val p2 : float * float * float = (0., 0., 13.1)\n"
      ]
     },
     "execution_count": 32,
     "metadata": {},
     "output_type": "execute_result"
    },
    {
     "data": {
      "text/plain": [
       "val p3 : float * float * float = (5.4, -8.2, 1.)\n"
      ]
     },
     "execution_count": 32,
     "metadata": {},
     "output_type": "execute_result"
    }
   ],
   "source": [
    "let p1 = (-2.5, 5.0, 0.2)\n",
    "let p2 = (0.0, 0.0, 13.1)\n",
    "let p3 = (5.4, -8.2, 1.0)"
   ]
  },
  {
   "cell_type": "markdown",
   "metadata": {},
   "source": [
    "<br>\n",
    "<br>\n",
    "<br>\n",
    "$3$. Implement a function `vector3_to_string : vector3 -> string` to convert a vector into a human-readable representation."
   ]
  },
  {
   "cell_type": "code",
   "execution_count": 9,
   "metadata": {},
   "outputs": [
    {
     "data": {
      "text/plain": [
       "val vector3_to_string : float * float * float -> string = <fun>\n"
      ]
     },
     "execution_count": 9,
     "metadata": {},
     "output_type": "execute_result"
    }
   ],
   "source": [
    "string_of_float;;\n",
    "\n",
    "let vector3_to_string =\n",
    "    fun (x,y,z) -> \"(\" ^ \n",
    "        (string_of_float x) ^ \",\" ^ \n",
    "        (string_of_float y) ^ \",\" ^ \n",
    "        (string_of_float z) ^ \")\""
   ]
  },
  {
   "cell_type": "markdown",
   "metadata": {},
   "source": [
    "<span style=\"color:red\">**We have also use a trivial solution, not to use the anonymous function**</span> "
   ]
  },
  {
   "cell_type": "code",
   "execution_count": 10,
   "metadata": {},
   "outputs": [
    {
     "data": {
      "text/plain": [
       "val my_version : float * float * float -> string = <fun>\n"
      ]
     },
     "execution_count": 10,
     "metadata": {},
     "output_type": "execute_result"
    },
    {
     "data": {
      "text/plain": [
       "val vector3_to_string_my_version : float * float * float -> string = <fun>\n"
      ]
     },
     "execution_count": 10,
     "metadata": {},
     "output_type": "execute_result"
    }
   ],
   "source": [
    "let my_version (x, y, z) = string_of_float x ^ \" \" ^ string_of_float y ^ \" \" ^ string_of_float z;;\n",
    "\n",
    "\n",
    "\n",
    "let vector3_to_string_my_version (x, y, z) = \"(\" ^ \n",
    "        (string_of_float x) ^ \",\" ^ \n",
    "        (string_of_float y) ^ \",\" ^ \n",
    "        (string_of_float z) ^ \")\""
   ]
  },
  {
   "cell_type": "markdown",
   "metadata": {},
   "source": [
    "<br><br><br>\n",
    "\n",
    "$4$. Write a function `vector3_add : vector3 -> vector3 -> vector3` to add two vectors."
   ]
  },
  {
   "cell_type": "code",
   "execution_count": null,
   "metadata": {},
   "outputs": [],
   "source": [
    "(+.);; (* HINT *)\n",
    "\n",
    "let vector3_add (x1,y1,z1) (x2,y2,z2) = x1+.x2, y1+.y2, z1+.z2"
   ]
  },
  {
   "cell_type": "markdown",
   "metadata": {},
   "source": [
    "<span style=\"color:red\">**We check out the type of our operators!**</span> "
   ]
  },
  {
   "cell_type": "code",
   "execution_count": 13,
   "metadata": {},
   "outputs": [
    {
     "data": {
      "text/plain": [
       "- : int -> int -> int = <fun>\n"
      ]
     },
     "execution_count": 13,
     "metadata": {},
     "output_type": "execute_result"
    }
   ],
   "source": [
    "(+);;"
   ]
  },
  {
   "cell_type": "code",
   "execution_count": 12,
   "metadata": {},
   "outputs": [
    {
     "data": {
      "text/plain": [
       "- : int -> int -> int = <fun>\n"
      ]
     },
     "execution_count": 12,
     "metadata": {},
     "output_type": "execute_result"
    }
   ],
   "source": [
    "(-);;"
   ]
  },
  {
   "cell_type": "code",
   "execution_count": 15,
   "metadata": {},
   "outputs": [
    {
     "ename": "error",
     "evalue": "compile_error",
     "output_type": "error",
     "traceback": [
      "\u001b[32mFile \"[15]\", line 1, characters 0-3:\n\u001b[31mError: Comment not terminated\n\u001b[36m   1: \u001b[30m\u001b[4m(*)\u001b[0m\u001b[30m \n\u001b[36m   2: \u001b[30m(* This is how we comment in ocaml*)\u001b[0m\n"
     ]
    },
    {
     "name": "stderr",
     "output_type": "stream",
     "text": [
      "File \"[15]\", line 1, characters 0-3:\n",
      "Warning 1: this is the start of a comment.\n"
     ]
    }
   ],
   "source": [
    "(*) \n",
    "(* This is how we comment in ocaml*)"
   ]
  },
  {
   "cell_type": "code",
   "execution_count": 25,
   "metadata": {
    "scrolled": true
   },
   "outputs": [
    {
     "data": {
      "text/plain": [
       "- : int -> int -> int = <fun>\n"
      ]
     },
     "execution_count": 25,
     "metadata": {},
     "output_type": "execute_result"
    }
   ],
   "source": [
    "( * );; (*Now is the multiply operator*)"
   ]
  },
  {
   "cell_type": "code",
   "execution_count": 17,
   "metadata": {},
   "outputs": [
    {
     "data": {
      "text/plain": [
       "- : int -> int -> int = <fun>\n"
      ]
     },
     "execution_count": 17,
     "metadata": {},
     "output_type": "execute_result"
    }
   ],
   "source": [
    "(/);;"
   ]
  },
  {
   "cell_type": "code",
   "execution_count": 26,
   "metadata": {},
   "outputs": [
    {
     "data": {
      "text/plain": [
       "- : int -> int -> int = <fun>\n"
      ]
     },
     "execution_count": 26,
     "metadata": {},
     "output_type": "execute_result"
    }
   ],
   "source": [
    "(mod);;"
   ]
  },
  {
   "cell_type": "code",
   "execution_count": 20,
   "metadata": {},
   "outputs": [
    {
     "data": {
      "text/plain": [
       "- : float -> float -> float = <fun>\n"
      ]
     },
     "execution_count": 20,
     "metadata": {},
     "output_type": "execute_result"
    }
   ],
   "source": [
    "(+.);;"
   ]
  },
  {
   "cell_type": "code",
   "execution_count": 22,
   "metadata": {},
   "outputs": [
    {
     "data": {
      "text/plain": [
       "- : float -> float -> float = <fun>\n"
      ]
     },
     "execution_count": 22,
     "metadata": {},
     "output_type": "execute_result"
    }
   ],
   "source": [
    "(-.);;"
   ]
  },
  {
   "cell_type": "code",
   "execution_count": 23,
   "metadata": {},
   "outputs": [
    {
     "data": {
      "text/plain": [
       "- : float -> float -> float = <fun>\n"
      ]
     },
     "execution_count": 23,
     "metadata": {},
     "output_type": "execute_result"
    }
   ],
   "source": [
    "( *. );;"
   ]
  },
  {
   "cell_type": "code",
   "execution_count": 24,
   "metadata": {},
   "outputs": [
    {
     "data": {
      "text/plain": [
       "- : float -> float -> float = <fun>\n"
      ]
     },
     "execution_count": 24,
     "metadata": {},
     "output_type": "execute_result"
    }
   ],
   "source": [
    "(/.);;"
   ]
  },
  {
   "cell_type": "markdown",
   "metadata": {},
   "source": [
    "<span style=\"color:red\">**I hope you can get some feeling about the operator are just binary functions.   \n",
    "  The type and the signaturs of the ocaml functions.**</span> "
   ]
  },
  {
   "cell_type": "markdown",
   "metadata": {},
   "source": [
    "<br><br><br>\n",
    "$5$. Write a function `vector3_max : vector3 -> vector3 -> vector3` that returns the larger vector (the vector with the greater magnitude)."
   ]
  },
  {
   "cell_type": "code",
   "execution_count": 29,
   "metadata": {},
   "outputs": [
    {
     "data": {
      "text/plain": [
       "val vector3_max :\n",
       "  float * float * float -> float * float * float -> float * float * float =\n",
       "  <fun>\n"
      ]
     },
     "execution_count": 29,
     "metadata": {},
     "output_type": "execute_result"
    }
   ],
   "source": [
    "let vector3_max (x1,y1,z1) (x2,y2,z2) =\n",
    "    if x1*.x1 +. y1*.y1 +. z1*.z1 > x2*.x2 +. y2*.y2 +. z2*.z2 \n",
    "        then (x1, y1, z1) \n",
    "        else (x2, y2, z2)"
   ]
  },
  {
   "cell_type": "markdown",
   "metadata": {},
   "source": [
    "<span style=\"color:red\">**Wait! We can make it more beautiful using another function to calculate the self multiply of the vector  \n",
    "  Try to do that on your own!**</span> "
   ]
  },
  {
   "cell_type": "code",
   "execution_count": 42,
   "metadata": {},
   "outputs": [],
   "source": [
    "(* Like \n",
    "  self_multiply (1.0, 1.0, 1.0);;\n",
    "  - : float = 3.\n",
    "  self_multiply (2.0, 2.0, 2.0);;\n",
    "  - : float = 12.\n",
    "*)\n"
   ]
  },
  {
   "cell_type": "code",
   "execution_count": 11,
   "metadata": {},
   "outputs": [
    {
     "data": {
      "text/plain": [
       "val self_multiply : float * float * float -> float = <fun>\n"
      ]
     },
     "execution_count": 11,
     "metadata": {},
     "output_type": "execute_result"
    },
    {
     "data": {
      "text/plain": [
       "- : float = 3.\n"
      ]
     },
     "execution_count": 11,
     "metadata": {},
     "output_type": "execute_result"
    },
    {
     "data": {
      "text/plain": [
       "- : float = 12.\n"
      ]
     },
     "execution_count": 11,
     "metadata": {},
     "output_type": "execute_result"
    }
   ],
   "source": [
    "let self_multiply (x, y, z) = x *. x +. y *. y +. z *. z;;\n",
    "self_multiply (1.0, 1.0, 1.0);;\n",
    "self_multiply (2.0, 2.0, 2.0);;"
   ]
  },
  {
   "cell_type": "markdown",
   "metadata": {},
   "source": [
    "<span style=\"color:red\">**Now t build our `vector3_max_my_version` using this function!**</span> "
   ]
  },
  {
   "cell_type": "code",
   "execution_count": 45,
   "metadata": {},
   "outputs": [
    {
     "data": {
      "text/plain": [
       "val vector3_max_my_version :\n",
       "  float * float * float -> float * float * float -> float * float * float =\n",
       "  <fun>\n"
      ]
     },
     "execution_count": 45,
     "metadata": {},
     "output_type": "execute_result"
    }
   ],
   "source": [
    "let vector3_max_my_version (x1,y1,z1) (x2,y2,z2) =\n",
    "    if self_multiply (x1,y1,z1) > self_multiply (x2,y2,z2)\n",
    "        then (x1, y1, z1) \n",
    "        else (x2, y2, z2)"
   ]
  },
  {
   "cell_type": "markdown",
   "metadata": {},
   "source": [
    "<span style=\"color:red\">**We can have have a tity version without the (...)**</span> "
   ]
  },
  {
   "cell_type": "code",
   "execution_count": 46,
   "metadata": {},
   "outputs": [
    {
     "data": {
      "text/plain": [
       "val vector3_max_my_second_version :\n",
       "  float * float * float -> float * float * float -> float * float * float =\n",
       "  <fun>\n"
      ]
     },
     "execution_count": 46,
     "metadata": {},
     "output_type": "execute_result"
    }
   ],
   "source": [
    "let vector3_max_my_second_version x1 x2 =\n",
    "    if self_multiply x1 > self_multiply x2 \n",
    "        then x1 \n",
    "        else x2"
   ]
  },
  {
   "cell_type": "markdown",
   "metadata": {},
   "source": [
    "<span style=\"color:red\">**We can have have a more tity version with the inside function**</span> "
   ]
  },
  {
   "cell_type": "code",
   "execution_count": 50,
   "metadata": {},
   "outputs": [
    {
     "data": {
      "text/plain": [
       "val vector3_max_my_last_version :\n",
       "  float * float * float -> float * float * float -> float * float * float =\n",
       "  <fun>\n"
      ]
     },
     "execution_count": 50,
     "metadata": {},
     "output_type": "execute_result"
    },
    {
     "ename": "error",
     "evalue": "compile_error",
     "output_type": "error",
     "traceback": [
      "\u001b[32mFile \"[50]\", line 8, characters 0-20:\n\u001b[31mError: Unbound value self_multiply_inside\n\u001b[36m   7: \u001b[30m\n\u001b[36m   8: \u001b[30m\u001b[4mself_multiply_inside\u001b[0m\u001b[30m;;\u001b[0m\n"
     ]
    }
   ],
   "source": [
    "let vector3_max_my_last_version x1 x2 =\n",
    "    let self_multiply_inside (x, y, z) = x *. x +. y *. y +. z *. z\n",
    "    in\n",
    "    if self_multiply_inside x1 > self_multiply_inside x2 \n",
    "        then x1 \n",
    "        else x2;;\n",
    "\n",
    "self_multiply_inside;;"
   ]
  },
  {
   "cell_type": "markdown",
   "metadata": {},
   "source": [
    "<span style=\"color:red\">**Pay attention to the scoping of the inside function!  \n",
    "  We have not access the inside funtion at the outer scope  \n",
    "  Look at the Error: Unbound value above!**</span> "
   ]
  },
  {
   "cell_type": "markdown",
   "metadata": {},
   "source": [
    "<br><br><br>\n",
    "$6$. Compute the result of adding `p1` to the larger of `p2` and `p3` and print the result as a string."
   ]
  },
  {
   "cell_type": "code",
   "execution_count": null,
   "metadata": {},
   "outputs": [],
   "source": [
    "vector3_to_string (vector3_add p1 (vector3_max p2 p3))"
   ]
  },
  {
   "cell_type": "markdown",
   "metadata": {},
   "source": [
    "# Assignment 5.4 (P) Student Database\n",
    "\n",
    "In this assignment, you have to manage the students of a university.\n",
    "\n",
    "1. Define a data type for a student. For every student the first name, last name, identification number, current semester as well as the grades received in different courses have to be stored. A course is simply represented by a number."
   ]
  },
  {
   "cell_type": "code",
   "execution_count": 15,
   "metadata": {},
   "outputs": [
    {
     "data": {
      "text/plain": [
       "type student = {\n",
       "  first_name : string;\n",
       "  last_name : string;\n",
       "  id : int;\n",
       "  semester : int;\n",
       "  grades : (int * float) list;\n",
       "}\n"
      ]
     },
     "execution_count": 15,
     "metadata": {},
     "output_type": "execute_result"
    }
   ],
   "source": [
    "type student = { \n",
    "    first_name : string; \n",
    "    last_name : string; \n",
    "    id : int; \n",
    "    semester : int; \n",
    "    grades : (int * float) list \n",
    "}"
   ]
  },
  {
   "cell_type": "markdown",
   "metadata": {},
   "source": [
    "The collection of students is now defined as a list of students: "
   ]
  },
  {
   "cell_type": "code",
   "execution_count": 16,
   "metadata": {},
   "outputs": [
    {
     "data": {
      "text/plain": [
       "type database = student list\n"
      ]
     },
     "execution_count": 16,
     "metadata": {},
     "output_type": "execute_result"
    },
    {
     "data": {
      "text/plain": [
       "- : 'a list = []\n"
      ]
     },
     "execution_count": 16,
     "metadata": {},
     "output_type": "execute_result"
    },
    {
     "data": {
      "text/plain": [
       "- : int list = [1]\n"
      ]
     },
     "execution_count": 16,
     "metadata": {},
     "output_type": "execute_result"
    },
    {
     "data": {
      "text/plain": [
       "- : int list = [1]\n"
      ]
     },
     "execution_count": 16,
     "metadata": {},
     "output_type": "execute_result"
    },
    {
     "data": {
      "text/plain": [
       "- : int list = [1; 2; 3]\n"
      ]
     },
     "execution_count": 16,
     "metadata": {},
     "output_type": "execute_result"
    }
   ],
   "source": [
    "type database = student list;;\n",
    "\n",
    "(*List*)\n",
    "[];;\n",
    "[1];;\n",
    "1 :: [];;\n",
    "[1; 2; 3];\n",
    "(* Error when  [1, ture];; *)"
   ]
  },
  {
   "cell_type": "markdown",
   "metadata": {},
   "source": [
    "<span style=\"color:red\">**What is the difference?  \n",
    "  `[1; 2; 3]` and `[1, 2, 3]`**</span> "
   ]
  },
  {
   "cell_type": "code",
   "execution_count": 17,
   "metadata": {},
   "outputs": [
    {
     "data": {
      "text/plain": [
       "- : int list = [1; 2; 3]\n"
      ]
     },
     "execution_count": 17,
     "metadata": {},
     "output_type": "execute_result"
    },
    {
     "data": {
      "text/plain": [
       "- : (int * int * int) list = [(1, 2, 3)]\n"
      ]
     },
     "execution_count": 17,
     "metadata": {},
     "output_type": "execute_result"
    }
   ],
   "source": [
    "[1; 2; 3];;\n",
    "[1, 2, 3];;"
   ]
  },
  {
   "cell_type": "markdown",
   "metadata": {},
   "source": [
    "<span style=\"color:red\">**How to loop a list?\n",
    "  We are not allowed to use FOR WHILE in ocaml.  \n",
    "  The `unit` is not relevant for now.**</span> "
   ]
  },
  {
   "cell_type": "code",
   "execution_count": 18,
   "metadata": {},
   "outputs": [
    {
     "data": {
      "text/plain": [
       "val int_list : int list = [1; 2; 3; 4; 5]\n"
      ]
     },
     "execution_count": 18,
     "metadata": {},
     "output_type": "execute_result"
    },
    {
     "data": {
      "text/plain": [
       "val looper : int list -> unit = <fun>\n"
      ]
     },
     "execution_count": 18,
     "metadata": {},
     "output_type": "execute_result"
    },
    {
     "data": {
      "text/plain": [
       "- : unit = ()\n"
      ]
     },
     "execution_count": 18,
     "metadata": {},
     "output_type": "execute_result"
    },
    {
     "name": "stdout",
     "output_type": "stream",
     "text": [
      "1\n",
      "2\n",
      "3\n",
      "4\n",
      "5\n",
      "Now Empty!\n"
     ]
    }
   ],
   "source": [
    "let int_list = [1; 2; 3; 4; 5];;\n",
    "let rec looper l = \n",
    "        match l with [] -> print_endline \"Now Empty!\"\n",
    "                |  x :: xs -> print_endline (string_of_int(x)) ; looper xs;;\n",
    "looper int_list;;\n",
    "\n"
   ]
  },
  {
   "cell_type": "markdown",
   "metadata": {},
   "source": [
    "<br><br><br>\n",
    "\n",
    "$2$. Write a function `insert : student -> database -> database` that inserts a student into the database."
   ]
  },
  {
   "cell_type": "code",
   "execution_count": 19,
   "metadata": {},
   "outputs": [
    {
     "data": {
      "text/plain": [
       "val insert : 'a -> 'a list -> 'a list = <fun>\n"
      ]
     },
     "execution_count": 19,
     "metadata": {},
     "output_type": "execute_result"
    },
    {
     "data": {
      "text/plain": [
       "- : int list = [1; 2]\n"
      ]
     },
     "execution_count": 19,
     "metadata": {},
     "output_type": "execute_result"
    }
   ],
   "source": [
    "let insert s db = s::db;;\n",
    "\n",
    "1::[2];;"
   ]
  },
  {
   "cell_type": "markdown",
   "metadata": {},
   "source": [
    "<br><br><br>\n",
    "$3$. Write a function `find_by_id : int -> db -> student list` that returns a list with all students with the given id (either a single student or an empty list, if no such student exists)."
   ]
  },
  {
   "cell_type": "code",
   "execution_count": 28,
   "metadata": {},
   "outputs": [
    {
     "data": {
      "text/plain": [
       "val find_by_id : int -> student list -> student list = <fun>\n"
      ]
     },
     "execution_count": 28,
     "metadata": {},
     "output_type": "execute_result"
    },
    {
     "data": {
      "text/plain": [
       "val int_list : int list = [0; 1; 2; 3; 4]\n"
      ]
     },
     "execution_count": 28,
     "metadata": {},
     "output_type": "execute_result"
    },
    {
     "data": {
      "text/plain": [
       "- : 'a list -> 'a = <fun>\n"
      ]
     },
     "execution_count": 28,
     "metadata": {},
     "output_type": "execute_result"
    },
    {
     "data": {
      "text/plain": [
       "- : int = 0\n"
      ]
     },
     "execution_count": 28,
     "metadata": {},
     "output_type": "execute_result"
    },
    {
     "data": {
      "text/plain": [
       "- : 'a list -> 'a list = <fun>\n"
      ]
     },
     "execution_count": 28,
     "metadata": {},
     "output_type": "execute_result"
    },
    {
     "data": {
      "text/plain": [
       "- : int list = [1; 2; 3; 4]\n"
      ]
     },
     "execution_count": 28,
     "metadata": {},
     "output_type": "execute_result"
    },
    {
     "data": {
      "text/plain": [
       "val int_finder : 'a -> 'a list -> 'a list = <fun>\n"
      ]
     },
     "execution_count": 28,
     "metadata": {},
     "output_type": "execute_result"
    },
    {
     "data": {
      "text/plain": [
       "- : int list = []\n"
      ]
     },
     "execution_count": 28,
     "metadata": {},
     "output_type": "execute_result"
    },
    {
     "data": {
      "text/plain": [
       "- : int list = [3]\n"
      ]
     },
     "execution_count": 28,
     "metadata": {},
     "output_type": "execute_result"
    }
   ],
   "source": [
    "let rec find_by_id id db = \n",
    "    match db with [] -> [] \n",
    "             | x::xs -> if x.id = id \n",
    "                               then [x] \n",
    "                        else find_by_id id xs;;\n",
    "                        \n",
    "let int_list = [0; 1; 2; 3; 4];;\n",
    "List.hd;;\n",
    "List.hd int_list;;\n",
    "List.tl;;\n",
    "List.tl int_list;;\n",
    "\n",
    "let rec int_finder i l = \n",
    "                match l with [] -> []\n",
    "                        | x :: xs -> if x = i then [x] else int_finder i xs;;\n",
    "int_finder 5 int_list;;\n",
    "int_finder 3 int_list;;\n",
    "                    "
   ]
  },
  {
   "cell_type": "markdown",
   "metadata": {},
   "source": [
    "<br><br><br>\n",
    "$4$. Implement a function `find_by_last_name : string -> database -> student list` to find all students with a given last name."
   ]
  },
  {
   "cell_type": "code",
   "execution_count": 59,
   "metadata": {},
   "outputs": [
    {
     "data": {
      "text/plain": [
       "val find_by_last_name : string -> student list -> student list = <fun>\n"
      ]
     },
     "execution_count": 59,
     "metadata": {},
     "output_type": "execute_result"
    }
   ],
   "source": [
    "let rec find_by_last_name name db = \n",
    "   match db with [] -> []\n",
    "            | x::xs -> if x.last_name = name \n",
    "                                  then x::find_by_last_name name xs \n",
    "                       else find_by_last_name name xs"
   ]
  },
  {
   "cell_type": "markdown",
   "metadata": {},
   "source": [
    "<br><br><br><br>\n",
    "<span style=\"color:red\">**If we have time in class  \n",
    "  Otherweise please checkout these functions at home!  \n",
    "  Very helpful**</span>   \n",
    "[check this link to learn more about List](https://caml.inria.fr/pub/docs/manual-ocaml/libref/List.html)"
   ]
  },
  {
   "cell_type": "code",
   "execution_count": 73,
   "metadata": {},
   "outputs": [
    {
     "data": {
      "text/plain": [
       "- : 'a list -> 'a = <fun>\n"
      ]
     },
     "execution_count": 73,
     "metadata": {},
     "output_type": "execute_result"
    },
    {
     "data": {
      "text/plain": [
       "- : 'a list -> 'a list = <fun>\n"
      ]
     },
     "execution_count": 73,
     "metadata": {},
     "output_type": "execute_result"
    },
    {
     "data": {
      "text/plain": [
       "- : 'a list -> int = <fun>\n"
      ]
     },
     "execution_count": 73,
     "metadata": {},
     "output_type": "execute_result"
    },
    {
     "data": {
      "text/plain": [
       "- : 'a list -> int -> 'a = <fun>\n"
      ]
     },
     "execution_count": 73,
     "metadata": {},
     "output_type": "execute_result"
    },
    {
     "data": {
      "text/plain": [
       "- : 'a -> 'a list -> 'a list = <fun>\n"
      ]
     },
     "execution_count": 73,
     "metadata": {},
     "output_type": "execute_result"
    },
    {
     "data": {
      "text/plain": [
       "- : ('a -> 'b) -> 'a list -> 'b list = <fun>\n"
      ]
     },
     "execution_count": 73,
     "metadata": {},
     "output_type": "execute_result"
    },
    {
     "data": {
      "text/plain": [
       "- : ('a -> 'b -> 'a) -> 'a -> 'b list -> 'a = <fun>\n"
      ]
     },
     "execution_count": 73,
     "metadata": {},
     "output_type": "execute_result"
    }
   ],
   "source": [
    "List.hd;;\n",
    "List.tl;;\n",
    "List.length;;\n",
    "List.nth;;\n",
    "List.cons;;\n",
    "\n",
    "List.rev;;\n",
    "List.init;;\n",
    "List.append;;\n",
    "List.flatten;;\n",
    "List.exits;;\n",
    "List.mem;;\n",
    "\n",
    "List.filter;;\n",
    "List.map;;\n",
    "List.fold_left;;"
   ]
  },
  {
   "cell_type": "code",
   "execution_count": 57,
   "metadata": {},
   "outputs": [
    {
     "data": {
      "text/plain": [
       "val exmp_list : int list = [0; 1; 2; 3; 4; 5; 6; 7; 8; 9]\n"
      ]
     },
     "execution_count": 57,
     "metadata": {},
     "output_type": "execute_result"
    },
    {
     "data": {
      "text/plain": [
       "- : int = 0\n"
      ]
     },
     "execution_count": 57,
     "metadata": {},
     "output_type": "execute_result"
    },
    {
     "data": {
      "text/plain": [
       "- : int list = [1; 2; 3; 4; 5; 6; 7; 8; 9]\n"
      ]
     },
     "execution_count": 57,
     "metadata": {},
     "output_type": "execute_result"
    },
    {
     "data": {
      "text/plain": [
       "- : int = 10\n"
      ]
     },
     "execution_count": 57,
     "metadata": {},
     "output_type": "execute_result"
    },
    {
     "data": {
      "text/plain": [
       "- : 'a list -> int -> 'a = <fun>\n"
      ]
     },
     "execution_count": 57,
     "metadata": {},
     "output_type": "execute_result"
    },
    {
     "data": {
      "text/plain": [
       "- : int = 2\n"
      ]
     },
     "execution_count": 57,
     "metadata": {},
     "output_type": "execute_result"
    },
    {
     "data": {
      "text/plain": [
       "- : int = 0\n"
      ]
     },
     "execution_count": 57,
     "metadata": {},
     "output_type": "execute_result"
    },
    {
     "data": {
      "text/plain": [
       "- : 'a -> 'a list -> 'a list = <fun>\n"
      ]
     },
     "execution_count": 57,
     "metadata": {},
     "output_type": "execute_result"
    },
    {
     "data": {
      "text/plain": [
       "- : int list = [10; 0; 1; 2; 3; 4; 5; 6; 7; 8; 9]\n"
      ]
     },
     "execution_count": 57,
     "metadata": {},
     "output_type": "execute_result"
    },
    {
     "data": {
      "text/plain": [
       "- : int list = [10; 0; 1; 2; 3; 4; 5; 6; 7; 8; 9]\n"
      ]
     },
     "execution_count": 57,
     "metadata": {},
     "output_type": "execute_result"
    },
    {
     "data": {
      "text/plain": [
       "- : 'a list -> 'a list = <fun>\n"
      ]
     },
     "execution_count": 57,
     "metadata": {},
     "output_type": "execute_result"
    },
    {
     "data": {
      "text/plain": [
       "- : int list = [9; 8; 7; 6; 5; 4; 3; 2; 1; 0]\n"
      ]
     },
     "execution_count": 57,
     "metadata": {},
     "output_type": "execute_result"
    },
    {
     "data": {
      "text/plain": [
       "- : 'a list -> 'a list -> 'a list = <fun>\n"
      ]
     },
     "execution_count": 57,
     "metadata": {},
     "output_type": "execute_result"
    },
    {
     "data": {
      "text/plain": [
       "- : int list = [10; 11; 12; 0; 1; 2; 3; 4; 5; 6; 7; 8; 9]\n"
      ]
     },
     "execution_count": 57,
     "metadata": {},
     "output_type": "execute_result"
    },
    {
     "data": {
      "text/plain": [
       "- : 'a list list -> 'a list = <fun>\n"
      ]
     },
     "execution_count": 57,
     "metadata": {},
     "output_type": "execute_result"
    },
    {
     "data": {
      "text/plain": [
       "- : int list = [1; 2; 3; 4; 5; 6]\n"
      ]
     },
     "execution_count": 57,
     "metadata": {},
     "output_type": "execute_result"
    },
    {
     "data": {
      "text/plain": [
       "- : ('a -> bool) -> 'a list -> bool = <fun>\n"
      ]
     },
     "execution_count": 57,
     "metadata": {},
     "output_type": "execute_result"
    },
    {
     "data": {
      "text/plain": [
       "val even : int -> bool = <fun>\n"
      ]
     },
     "execution_count": 57,
     "metadata": {},
     "output_type": "execute_result"
    },
    {
     "data": {
      "text/plain": [
       "- : bool = true\n"
      ]
     },
     "execution_count": 57,
     "metadata": {},
     "output_type": "execute_result"
    },
    {
     "data": {
      "text/plain": [
       "val odd_list : int list = [2; 4; 6; 8]\n"
      ]
     },
     "execution_count": 57,
     "metadata": {},
     "output_type": "execute_result"
    },
    {
     "data": {
      "text/plain": [
       "- : bool = false\n"
      ]
     },
     "execution_count": 57,
     "metadata": {},
     "output_type": "execute_result"
    },
    {
     "data": {
      "text/plain": [
       "- : 'a -> 'a list -> bool = <fun>\n"
      ]
     },
     "execution_count": 57,
     "metadata": {},
     "output_type": "execute_result"
    },
    {
     "data": {
      "text/plain": [
       "- : bool = false\n"
      ]
     },
     "execution_count": 57,
     "metadata": {},
     "output_type": "execute_result"
    },
    {
     "data": {
      "text/plain": [
       "- : bool = true\n"
      ]
     },
     "execution_count": 57,
     "metadata": {},
     "output_type": "execute_result"
    }
   ],
   "source": [
    "let exmp_list = [0 ;1; 2; 3; 4; 5; 6; 7; 8; 9];;\n",
    "List.hd exmp_list;;\n",
    "List.tl exmp_list;;\n",
    "\n",
    "List.length exmp_list;;\n",
    "List.nth;;\n",
    "List.nth exmp_list 2;;\n",
    "List.nth exmp_list 0;;\n",
    "List.cons;;\n",
    "List.cons 10 exmp_list;;\n",
    "10 :: exmp_list;;\n",
    "List.rev;;\n",
    "List.rev exmp_list;;\n",
    "List.append;;\n",
    "List.append [10; 11; 12] exmp_list;;\n",
    "List.flatten;;\n",
    "List.flatten [[1; 2]; [3; 4]; [5; 6]];;\n",
    "List.exists;;\n",
    "let even x = if x mod 2 == 1 then true else false;;\n",
    "List.exists even exmp_list;;\n",
    "let odd_list = [2; 4; 6; 8];;\n",
    "List.exists even odd_list;;\n",
    "List.mem;;\n",
    "List.mem 10 exmp_list;;\n",
    "List.mem 5 exmp_list;;"
   ]
  },
  {
   "cell_type": "markdown",
   "metadata": {},
   "source": [
    "# Homework Assignments\n",
    "\n",
    "The homework assignments can be found in a separate pdf file.\n"
   ]
  }
 ],
 "metadata": {
  "kernelspec": {
   "display_name": "OCaml 4.05.0",
   "language": "OCaml",
   "name": "ocaml-jupyter"
  },
  "language_info": {
   "codemirror_mode": "text/x-ocaml",
   "file_extension": ".ml",
   "mimetype": "text/x-ocaml",
   "name": "OCaml",
   "nbconverter_exporter": null,
   "pygments_lexer": "OCaml",
   "version": "4.05.0"
  }
 },
 "nbformat": 4,
 "nbformat_minor": 2
}
