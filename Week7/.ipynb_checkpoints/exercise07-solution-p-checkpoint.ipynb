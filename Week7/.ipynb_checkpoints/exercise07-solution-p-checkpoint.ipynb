{
 "cells": [
  {
   "cell_type": "markdown",
   "metadata": {},
   "source": [
    "### Assignment 7.1 (P) The List Module (part 2)\n",
    "\n",
    "In order to write short and easy to understand programs, it is crucial to use existing library functions for regularly appearing problem patterns. The most frequently used library functions are clearly those of the `List` Module and the following in particular. Check the documentation for their types and functionality:\n",
    "\n",
    "* `List.map : ('a -> 'b) -> 'a list -> 'b list` \n",
    "    Transforms all elements in the list with the given function.\n",
    "* `List.fold_left : ('a -> 'b -> 'a) -> 'a -> 'b list -> 'a`\n",
    "    Step by step combines all elements in the list from left to right with an initial value.\n",
    "* `List.fold_right : ('a -> 'b -> 'b) -> 'a list -> 'b -> 'b`\n",
    "    Step by step combines all elements in the list from right to left with an initial value.\n",
    "* `List.find_opt : ('a -> bool) -> 'a list -> 'a option`\n",
    "    Searches the list for an element for which the given function returns true. If such an element `x` is found, it is returned as `Some x`, otherwise `None` is returned.\n",
    "* `List.filter : ('a -> bool) -> 'a list -> 'a list`\n",
    "    Constructs a new list, containing only the elements for which the function returns true.\n",
    "    \n",
    "Implement the following functions without using any recursive functions:\n",
    "\n",
    "1) `squaresum : int list -> int` computes $\\sum_{i=1}^{n} x_i^2$ for a list $[x_1, \\dotsc, x_n]$.\n",
    "\n",
    "2) `float_list : int list -> float list` converts all ints in the list to floats.\n",
    "\n",
    "3) `to_string : int list -> string` builds a string representation of the given list.\n",
    "\n",
    "4) `part_even : int list -> int list` partitions all even values to the front of the list."
   ]
  },
  {
   "cell_type": "code",
   "execution_count": 5,
   "metadata": {},
   "outputs": [
    {
     "data": {
      "text/plain": [
       "val my_op : float option = Some 1.\n"
      ]
     },
     "execution_count": 5,
     "metadata": {},
     "output_type": "execute_result"
    },
    {
     "data": {
      "text/plain": [
       "val op1 : int option = Some 1\n"
      ]
     },
     "execution_count": 5,
     "metadata": {},
     "output_type": "execute_result"
    },
    {
     "data": {
      "text/plain": [
       "val op2 : 'a option = None\n"
      ]
     },
     "execution_count": 5,
     "metadata": {},
     "output_type": "execute_result"
    },
    {
     "data": {
      "text/plain": [
       "val op3 : string option = Some \"this is a Option string\"\n"
      ]
     },
     "execution_count": 5,
     "metadata": {},
     "output_type": "execute_result"
    },
    {
     "data": {
      "text/plain": [
       "val option_value : 'a option -> 'a = <fun>\n"
      ]
     },
     "execution_count": 5,
     "metadata": {},
     "output_type": "execute_result"
    },
    {
     "data": {
      "text/plain": [
       "- : int = 1\n"
      ]
     },
     "execution_count": 5,
     "metadata": {},
     "output_type": "execute_result"
    },
    {
     "data": {
      "text/plain": [
       "- : string = \"this is a Option string\"\n"
      ]
     },
     "execution_count": 5,
     "metadata": {},
     "output_type": "execute_result"
    }
   ],
   "source": [
    "(*Option*)\n",
    "let my_op = Some 1.0;;\n",
    "\n",
    "let op1 = Some 1;;\n",
    "let op2 = None;;\n",
    "let op3 = Some \"this is a Option string\";;\n",
    "\n",
    "(*take value out of Option*)\n",
    "let option_value op = \n",
    "                    match op with None -> failwith \"None\"\n",
    "                                | Some x -> x;;\n",
    "                                \n",
    "option_value op1;;\n",
    "(* option_value op2;; error *)\n",
    "option_value op3;;"
   ]
  },
  {
   "cell_type": "code",
   "execution_count": 8,
   "metadata": {},
   "outputs": [
    {
     "data": {
      "text/plain": [
       "- : ('a -> 'b) -> 'a list -> 'b list = <fun>\n"
      ]
     },
     "execution_count": 8,
     "metadata": {},
     "output_type": "execute_result"
    },
    {
     "data": {
      "text/plain": [
       "val int_double : int -> int = <fun>\n"
      ]
     },
     "execution_count": 8,
     "metadata": {},
     "output_type": "execute_result"
    },
    {
     "data": {
      "text/plain": [
       "val int_l : int list = [1; 2; 3; 4; 5]\n"
      ]
     },
     "execution_count": 8,
     "metadata": {},
     "output_type": "execute_result"
    },
    {
     "data": {
      "text/plain": [
       "- : int list = [2; 4; 6; 8; 10]\n"
      ]
     },
     "execution_count": 8,
     "metadata": {},
     "output_type": "execute_result"
    },
    {
     "data": {
      "text/plain": [
       "- : string list = [\"1\"; \"2\"; \"3\"; \"4\"; \"5\"]\n"
      ]
     },
     "execution_count": 8,
     "metadata": {},
     "output_type": "execute_result"
    }
   ],
   "source": [
    "List.map;;\n",
    "let int_double x = 2 * x;;\n",
    "let int_l = [1; 2; 3; 4; 5];;\n",
    "List.map int_double int_l;;\n",
    "List.map (string_of_int) int_l;;"
   ]
  },
  {
   "cell_type": "markdown",
   "metadata": {},
   "source": [
    "[check fold in WIKI](https://en.wikipedia.org/wiki/Fold_)\n",
    "\n",
    "\n",
    "Both `fold-left` and `fold-right` reduces one or more list with a reducing procedure from first to last element, but the order it is applied is kept in `fold-right` while it is reversed in `fold-left`. "
   ]
  },
  {
   "cell_type": "code",
   "execution_count": 9,
   "metadata": {},
   "outputs": [
    {
     "data": {
      "text/plain": [
       "- : ('a -> 'b -> 'a) -> 'a -> 'b list -> 'a = <fun>\n"
      ]
     },
     "execution_count": 9,
     "metadata": {},
     "output_type": "execute_result"
    },
    {
     "data": {
      "text/plain": [
       "- : int list = [1; 2; 3; 4; 5]\n"
      ]
     },
     "execution_count": 9,
     "metadata": {},
     "output_type": "execute_result"
    },
    {
     "data": {
      "text/plain": [
       "- : int = 15\n"
      ]
     },
     "execution_count": 9,
     "metadata": {},
     "output_type": "execute_result"
    },
    {
     "data": {
      "text/plain": [
       "- : int list = [5; 4; 3; 2; 1]\n"
      ]
     },
     "execution_count": 9,
     "metadata": {},
     "output_type": "execute_result"
    },
    {
     "data": {
      "text/plain": [
       "- : int list = [5; 4; 3; 2; 1]\n"
      ]
     },
     "execution_count": 9,
     "metadata": {},
     "output_type": "execute_result"
    }
   ],
   "source": [
    "(*accumulator*)\n",
    "List.fold_left;; (*apply the function from left to right*)\n",
    "int_l;;\n",
    "List.fold_left (+) 0 int_l;; (*Sum*)\n",
    "List.fold_left (fun l e -> e :: l) [] int_l;;  (*List.rev*)\n",
    "List.fold_left (fun l e -> e :: l) [] int_l;;  (*List.rev*)\n",
    "\n",
    "\n",
    "let rec fold_left (f : 'a -> 'b ->'a) (acc : 'a) (l : 'b list): 'a =\n",
    "  match l with\n",
    "    [] -> acc\n",
    "  | x :: xs -> fold_left f (f acc x) xs;;\n",
    "  "
   ]
  },
  {
   "cell_type": "code",
   "execution_count": 19,
   "metadata": {},
   "outputs": [
    {
     "data": {
      "text/plain": [
       "- : ('a -> 'b -> 'a) -> 'a -> 'b list -> 'a = <fun>\n"
      ]
     },
     "execution_count": 19,
     "metadata": {},
     "output_type": "execute_result"
    },
    {
     "data": {
      "text/plain": [
       "- : int list = [1; 2; 3; 4; 5]\n"
      ]
     },
     "execution_count": 19,
     "metadata": {},
     "output_type": "execute_result"
    },
    {
     "data": {
      "text/plain": [
       "- : int = 15\n"
      ]
     },
     "execution_count": 19,
     "metadata": {},
     "output_type": "execute_result"
    },
    {
     "data": {
      "text/plain": [
       "- : int list = [5; 4; 3; 2; 1]\n"
      ]
     },
     "execution_count": 19,
     "metadata": {},
     "output_type": "execute_result"
    },
    {
     "data": {
      "text/plain": [
       "- : int list = [5; 4; 3; 2; 1]\n"
      ]
     },
     "execution_count": 19,
     "metadata": {},
     "output_type": "execute_result"
    },
    {
     "data": {
      "text/plain": [
       "- : ('a -> 'b -> 'b) -> 'a list -> 'b -> 'b = <fun>\n"
      ]
     },
     "execution_count": 19,
     "metadata": {},
     "output_type": "execute_result"
    },
    {
     "data": {
      "text/plain": [
       "- : int = 15\n"
      ]
     },
     "execution_count": 19,
     "metadata": {},
     "output_type": "execute_result"
    },
    {
     "data": {
      "text/plain": [
       "- : int list = [1; 2; 3; 4; 5]\n"
      ]
     },
     "execution_count": 19,
     "metadata": {},
     "output_type": "execute_result"
    }
   ],
   "source": [
    "\n",
    "List.fold_right;;\n",
    "List.fold_right (+) int_l 0;; (*Sum*)\n",
    "List.fold_right (fun e l -> e :: l) int_l [];; (*same order*)\n",
    "\n",
    "\n",
    "\n",
    "\n",
    "\n",
    "(*real implemtation --  helpful to understand what they do*)\n",
    "(*Can you tell us, why is fold_left is revered???*)\n",
    "let rec fold_left (f : 'a -> 'b ->'a) (acc : 'a) (l : 'b list): 'a =\n",
    "  match l with\n",
    "    [] -> acc\n",
    "  | x :: xs -> fold_left f (f acc x) xs;;\n",
    "  \n",
    "let rec fold_right (f : 'a -> 'b -> 'b) (l : 'a list) (acc : 'b) : 'b =\n",
    "  match l with\n",
    "    [] -> acc\n",
    "  | x :: xs -> f x (List.fold_right f xs acc);;"
   ]
  },
  {
   "cell_type": "code",
   "execution_count": 10,
   "metadata": {},
   "outputs": [
    {
     "data": {
      "text/plain": [
       "- : ('a -> bool) -> 'a list -> 'a option = <fun>\n"
      ]
     },
     "execution_count": 10,
     "metadata": {},
     "output_type": "execute_result"
    },
    {
     "data": {
      "text/plain": [
       "- : int option = Some 1\n"
      ]
     },
     "execution_count": 10,
     "metadata": {},
     "output_type": "execute_result"
    },
    {
     "data": {
      "text/plain": [
       "- : ('a -> bool) -> 'a list -> 'a list = <fun>\n"
      ]
     },
     "execution_count": 10,
     "metadata": {},
     "output_type": "execute_result"
    },
    {
     "data": {
      "text/plain": [
       "- : int list = [1]\n"
      ]
     },
     "execution_count": 10,
     "metadata": {},
     "output_type": "execute_result"
    },
    {
     "data": {
      "text/plain": [
       "- : int list = [1; 3; 5]\n"
      ]
     },
     "execution_count": 10,
     "metadata": {},
     "output_type": "execute_result"
    }
   ],
   "source": [
    "List.find_opt;;\n",
    "List.find_opt  (fun x -> if x = 1 then true else false) int_l;;\n",
    "\n",
    "List.filter;;\n",
    "List.filter (fun x -> if x = 1 then true else false) int_l;;\n",
    "List.filter (fun x -> if x mod 2 = 1 then true else false) int_l;; (*odd numbers*)"
   ]
  },
  {
   "cell_type": "markdown",
   "metadata": {},
   "source": [
    "<br> <br> <br>"
   ]
  },
  {
   "cell_type": "code",
   "execution_count": 23,
   "metadata": {},
   "outputs": [
    {
     "data": {
      "text/plain": [
       "val squaresum : int list -> int = <fun>\n"
      ]
     },
     "execution_count": 23,
     "metadata": {},
     "output_type": "execute_result"
    },
    {
     "data": {
      "text/plain": [
       "val float_list : int list -> float list = <fun>\n"
      ]
     },
     "execution_count": 23,
     "metadata": {},
     "output_type": "execute_result"
    },
    {
     "data": {
      "text/plain": [
       "val to_string : int list -> string = <fun>\n"
      ]
     },
     "execution_count": 23,
     "metadata": {},
     "output_type": "execute_result"
    },
    {
     "data": {
      "text/plain": [
       "val part_even : int list -> int list = <fun>\n"
      ]
     },
     "execution_count": 23,
     "metadata": {},
     "output_type": "execute_result"
    },
    {
     "data": {
      "text/plain": [
       "- : int list = [1; 2; 3; 4; 5]\n"
      ]
     },
     "execution_count": 23,
     "metadata": {},
     "output_type": "execute_result"
    },
    {
     "data": {
      "text/plain": [
       "- : int list = [1; 3; 5; 2; 4]\n"
      ]
     },
     "execution_count": 23,
     "metadata": {},
     "output_type": "execute_result"
    }
   ],
   "source": [
    "(* squaresum : int list -> int *)  (*THIS IS A SUM!*)\n",
    "let squaresum l = List.fold_left (fun acc x -> acc + x * x) 0 l;;\n",
    "\n",
    "(* float_list : int list -> float list *) (*FROM A LIST TO LIST*) (*float_of_in*)\n",
    "let float_list = List.map (float_of_int);;\n",
    "\n",
    "(* to_string : int list -> string *) (* Order matters*) (* ^ appends the strings*)\n",
    "let to_string l = List.fold_left (fun acc x -> acc ^ (string_of_int x)) \"\" l;;\n",
    "\n",
    "(* part_even : int list -> int list*) (* @ merge two lists*)\n",
    "let part_even l = \n",
    "  let odd = List.filter (fun x -> if x mod 2 = 1 then true else false) l\n",
    "  in\n",
    "  let even = List.filter (fun x -> if x mod 2 = 0 then true else false) l\n",
    "  in\n",
    "  odd @ even;;"
   ]
  },
  {
   "cell_type": "code",
   "execution_count": 24,
   "metadata": {},
   "outputs": [
    {
     "data": {
      "text/plain": [
       "- : int = 55\n"
      ]
     },
     "execution_count": 24,
     "metadata": {},
     "output_type": "execute_result"
    },
    {
     "data": {
      "text/plain": [
       "- : float list = [1.; 2.; 3.; 4.; 5.]\n"
      ]
     },
     "execution_count": 24,
     "metadata": {},
     "output_type": "execute_result"
    },
    {
     "data": {
      "text/plain": [
       "- : string = \"12345\"\n"
      ]
     },
     "execution_count": 24,
     "metadata": {},
     "output_type": "execute_result"
    },
    {
     "data": {
      "text/plain": [
       "- : int list = [1; 3; 5; 2; 4]\n"
      ]
     },
     "execution_count": 24,
     "metadata": {},
     "output_type": "execute_result"
    }
   ],
   "source": [
    "squaresum int_l;;\n",
    "float_list int_l;;\n",
    "to_string int_l;;\n",
    "part_even int_l;;"
   ]
  },
  {
   "cell_type": "code",
   "execution_count": 35,
   "metadata": {},
   "outputs": [
    {
     "data": {
      "text/plain": [
       "val squaresum : int list -> int = <fun>\n"
      ]
     },
     "execution_count": 35,
     "metadata": {},
     "output_type": "execute_result"
    },
    {
     "data": {
      "text/plain": [
       "val float_list : int list -> float list = <fun>\n"
      ]
     },
     "execution_count": 35,
     "metadata": {},
     "output_type": "execute_result"
    },
    {
     "data": {
      "text/plain": [
       "val to_string : int list -> string = <fun>\n"
      ]
     },
     "execution_count": 35,
     "metadata": {},
     "output_type": "execute_result"
    },
    {
     "data": {
      "text/plain": [
       "val part_even : int list -> int list = <fun>\n"
      ]
     },
     "execution_count": 35,
     "metadata": {},
     "output_type": "execute_result"
    },
    {
     "data": {
      "text/plain": [
       "val part_even_alternative : int list -> int list * int list = <fun>\n"
      ]
     },
     "execution_count": 35,
     "metadata": {},
     "output_type": "execute_result"
    },
    {
     "data": {
      "text/plain": [
       "- : string = \"[1;2;3;4;5;]\"\n"
      ]
     },
     "execution_count": 35,
     "metadata": {},
     "output_type": "execute_result"
    },
    {
     "data": {
      "text/plain": [
       "- : int list = [2; 4; 1; 3; 5]\n"
      ]
     },
     "execution_count": 35,
     "metadata": {},
     "output_type": "execute_result"
    },
    {
     "data": {
      "text/plain": [
       "- : int list * int list = ([2; 4], [1; 3; 5])\n"
      ]
     },
     "execution_count": 35,
     "metadata": {},
     "output_type": "execute_result"
    }
   ],
   "source": [
    "let squaresum l = List.fold_left (fun acc -> acc + x * x) 0 l;;\n",
    "\n",
    "let float_list l = List.map float_of_int l;;\n",
    "\n",
    "let to_string l = \n",
    "    \"[\" ^ (List.fold_left (fun a x -> a ^ (string_of_int x) ^ \";\") \"\" l) ^ \"]\";;\n",
    "\n",
    "    \n",
    "let part_even l = \n",
    "    let even = List.filter (fun x -> x mod 2 = 0) l in\n",
    "    let odd = List.filter (fun x -> x mod 2 <> 0) l in\n",
    "    even @ odd;;\n",
    "\n",
    "let part_even_alternative l = List.partition (fun x -> x mod 2 = 0) l;;\n",
    "\n",
    "\n",
    "to_string int_l;;\n",
    "part_even int_l;;\n",
    "part_even_alternative int_l;;"
   ]
  },
  {
   "cell_type": "markdown",
   "metadata": {},
   "source": [
    "<br> <br> <br>\n",
    "\n",
    "<span style=\"color:red\">**Why is the `to_string` produce the same order?**</span> \n",
    "\n",
    "<br> <br> <br>\n",
    "\n",
    "`^` take two same type from left and right like `+`. But `::` or `List.cons` take a element and a list   \n",
    "<br> <br> <br>\n",
    "<span style=\"color:red\">**Quiz: write a function, which produces the [5;4;3;2;1;] as string**</span>  "
   ]
  },
  {
   "cell_type": "code",
   "execution_count": 30,
   "metadata": {},
   "outputs": [
    {
     "data": {
      "text/plain": [
       "- : ('a -> 'b -> 'b) -> 'a list -> 'b -> 'b = <fun>\n"
      ]
     },
     "execution_count": 30,
     "metadata": {},
     "output_type": "execute_result"
    },
    {
     "data": {
      "text/plain": [
       "val to_string_rev : int list -> string = <fun>\n"
      ]
     },
     "execution_count": 30,
     "metadata": {},
     "output_type": "execute_result"
    },
    {
     "data": {
      "text/plain": [
       "- : string = \"12345\"\n"
      ]
     },
     "execution_count": 30,
     "metadata": {},
     "output_type": "execute_result"
    }
   ],
   "source": [
    "List.fold_right;;\n",
    "let to_string_rev l = \n",
    "    (List.fold_right (fun x acc-> (string_of_int x) ^ acc)) l \"\";;\n",
    "    \n",
    "to_string_rev int_l;;\n",
    "\n",
    "(*also we can use a function from List.fold_right*)"
   ]
  },
  {
   "cell_type": "markdown",
   "metadata": {},
   "source": [
    "### Assignment 7.2 (P) Mappings\n",
    "\n",
    "There is a need to represent and modify a mapping from one set of values to another set of values in many applications. Remember how we stored the grades in the student record. Storing a list of pairs `'a * 'b` is a simple way to represent a mapping from type `'a` to type `'b`. This kind of list is typically referred to as an associative list:\n"
   ]
  },
  {
   "cell_type": "markdown",
   "metadata": {},
   "source": [
    "1) Implement these functions to work with mappings based on associative lists:\n",
    "* `is_empty : ('k * 'v) list -> bool`\n",
    "* `get : 'k -> ('k * 'v) list -> 'v option`\n",
    "* `put : 'k -> 'v -> ('k * 'v) list -> ('k * 'v) list`\n",
    "* `contains_key : 'k -> ('k * 'v) list -> bool`\n",
    "* `remove : 'k -> ('k * 'v) list -> ('k * 'v) list`\n",
    "* `keys : ('k * 'v) list -> 'k list`\n",
    "* `values : ('k * 'v) list -> 'v list`"
   ]
  },
  {
   "cell_type": "code",
   "execution_count": 35,
   "metadata": {},
   "outputs": [
    {
     "data": {
      "text/plain": [
       "- : bool = true\n"
      ]
     },
     "execution_count": 35,
     "metadata": {},
     "output_type": "execute_result"
    },
    {
     "data": {
      "text/plain": [
       "- : bool = false\n"
      ]
     },
     "execution_count": 35,
     "metadata": {},
     "output_type": "execute_result"
    },
    {
     "data": {
      "text/plain": [
       "- : int option = Some 1\n"
      ]
     },
     "execution_count": 35,
     "metadata": {},
     "output_type": "execute_result"
    },
    {
     "data": {
      "text/plain": [
       "- : string option = Some \"option\"\n"
      ]
     },
     "execution_count": 35,
     "metadata": {},
     "output_type": "execute_result"
    },
    {
     "data": {
      "text/plain": [
       "- : 'a option = None\n"
      ]
     },
     "execution_count": 35,
     "metadata": {},
     "output_type": "execute_result"
    }
   ],
   "source": [
    "1 = 1;;\n",
    "1 <> 1;;\n",
    "Some 1;;\n",
    "Some \"option\";;\n",
    "None;"
   ]
  },
  {
   "cell_type": "code",
   "execution_count": 41,
   "metadata": {},
   "outputs": [
    {
     "data": {
      "text/plain": [
       "val is_empty : 'a list -> bool = <fun>\n"
      ]
     },
     "execution_count": 41,
     "metadata": {},
     "output_type": "execute_result"
    },
    {
     "data": {
      "text/plain": [
       "val get : 'a -> ('a * 'b) list -> 'b option = <fun>\n"
      ]
     },
     "execution_count": 41,
     "metadata": {},
     "output_type": "execute_result"
    },
    {
     "data": {
      "text/plain": [
       "val put : 'a -> 'b -> ('a * 'b) list -> ('a * 'b) list = <fun>\n"
      ]
     },
     "execution_count": 41,
     "metadata": {},
     "output_type": "execute_result"
    },
    {
     "data": {
      "text/plain": [
       "val contains_key : 'a -> ('a * 'b) list -> bool = <fun>\n"
      ]
     },
     "execution_count": 41,
     "metadata": {},
     "output_type": "execute_result"
    },
    {
     "data": {
      "text/plain": [
       "val remove : 'a -> ('a * 'b) list -> ('a * 'b) list = <fun>\n"
      ]
     },
     "execution_count": 41,
     "metadata": {},
     "output_type": "execute_result"
    },
    {
     "data": {
      "text/plain": [
       "val keys : ('_a * '_b) list -> '_a list = <fun>\n"
      ]
     },
     "execution_count": 41,
     "metadata": {},
     "output_type": "execute_result"
    },
    {
     "data": {
      "text/plain": [
       "val value : ('_a * '_b) list -> '_b list = <fun>\n"
      ]
     },
     "execution_count": 41,
     "metadata": {},
     "output_type": "execute_result"
    },
    {
     "data": {
      "text/plain": [
       "- : 'a * 'b -> 'a = <fun>\n"
      ]
     },
     "execution_count": 41,
     "metadata": {},
     "output_type": "execute_result"
    },
    {
     "data": {
      "text/plain": [
       "- : 'a * 'b -> 'b = <fun>\n"
      ]
     },
     "execution_count": 41,
     "metadata": {},
     "output_type": "execute_result"
    }
   ],
   "source": [
    "let is_empty m = m = [];;\n",
    "\n",
    "let rec get k l = \n",
    "            match l with [] -> None\n",
    "                    | (key, value)::xs -> if key = k then Some value else get k xs;;\n",
    "\n",
    "let put k v l = (k, v) :: l;;\n",
    "\n",
    "(*Reuse the get function*) (* <> not equal*)\n",
    "let contains_key k l = (get k l) <> None;;\n",
    "\n",
    "let rec remove k l =\n",
    "             match l with [] -> []\n",
    "           |(key, value)::xs -> if key = k then remove k xs else (key, value)::remove k xs;; \n",
    "         \n",
    "let keys = List.map fst;;\n",
    "let value = List.map snd;;\n",
    "fst;;\n",
    "snd;;"
   ]
  },
  {
   "cell_type": "code",
   "execution_count": 40,
   "metadata": {},
   "outputs": [
    {
     "data": {
      "text/plain": [
       "val get : 'a -> ('a * 'b) list -> 'b option = <fun>\n"
      ]
     },
     "execution_count": 40,
     "metadata": {},
     "output_type": "execute_result"
    },
    {
     "data": {
      "text/plain": [
       "val put : 'a -> 'b -> ('a * 'b) list -> ('a * 'b) list = <fun>\n"
      ]
     },
     "execution_count": 40,
     "metadata": {},
     "output_type": "execute_result"
    },
    {
     "data": {
      "text/plain": [
       "val contains_key : 'a -> ('a * 'b) list -> bool = <fun>\n"
      ]
     },
     "execution_count": 40,
     "metadata": {},
     "output_type": "execute_result"
    },
    {
     "data": {
      "text/plain": [
       "val remove : 'a -> ('a * 'b) list -> ('a * 'b) list = <fun>\n"
      ]
     },
     "execution_count": 40,
     "metadata": {},
     "output_type": "execute_result"
    },
    {
     "data": {
      "text/plain": [
       "val keys : ('a * 'b) list -> 'a list = <fun>\n"
      ]
     },
     "execution_count": 40,
     "metadata": {},
     "output_type": "execute_result"
    },
    {
     "data": {
      "text/plain": [
       "val values : ('a * 'b) list -> 'b list = <fun>\n"
      ]
     },
     "execution_count": 40,
     "metadata": {},
     "output_type": "execute_result"
    },
    {
     "data": {
      "text/plain": [
       "- : ('a -> 'b) -> 'a list -> 'b list = <fun>\n"
      ]
     },
     "execution_count": 40,
     "metadata": {},
     "output_type": "execute_result"
    }
   ],
   "source": [
    "(* let is_empty m = m = empty;; *)\n",
    "\n",
    "let rec get k = function [] -> None \n",
    "    | (k',v')::ms -> if k' = k then Some v' else get k ms;;\n",
    "\n",
    "let put k v m = (k,v)::m;;\n",
    "(* or better: \n",
    "let put k v m = (k,v)::remove k m\n",
    "*)\n",
    "\n",
    "let contains_key k m = (get k m) <> None;;\n",
    "\n",
    "let rec remove k = function [] -> [] \n",
    "    | (k',v')::ms -> if k' = k then ms else (k',v')::remove k ms;;\n",
    "\n",
    "let keys m = List.map fst m;;\n",
    "\n",
    "let values m = List.map snd m;;\n",
    "\n",
    "List.map;;"
   ]
  },
  {
   "cell_type": "markdown",
   "metadata": {},
   "source": [
    "2) Check the `List` module for functions that already provide (some of) these functionalities.\n",
    "\n",
    "* `assoc_opt` is `get`\n",
    "* `mem_assoc` is `contains_key`\n",
    "* `remove_assoc` is `remove`\n",
    "* `split` followed by `fst` is `keys`\n",
    "* `split` followed by `snd` is `values`\n",
    "\n"
   ]
  },
  {
   "cell_type": "markdown",
   "metadata": {},
   "source": [
    "<br> <br> <br>\n",
    "\n",
    "Additional TREEMAP"
   ]
  },
  {
   "cell_type": "code",
   "execution_count": 10,
   "metadata": {},
   "outputs": [
    {
     "data": {
      "text/plain": [
       "type tree = Node of int * tree * tree | Empty\n"
      ]
     },
     "execution_count": 10,
     "metadata": {},
     "output_type": "execute_result"
    }
   ],
   "source": [
    "type tree = Node of int * tree * tree | Empty;;\n",
    "(* type 'a tree = Node of 'a * 'a tree * 'a tree | Empty;; *)\n",
    "(* type ('a,'b) treemap = Node of ('a *'b * ('a, 'b) treemap * ('a, 'b) treemap) | Empty;; *)\n",
    "\n",
    "\n",
    "(* val get : 'a -> ('a, 'b) treemap -> 'b option = <fun> *)\n",
    "(* val put : 'a -> 'b -> ('a, 'b) treemap -> ('a, 'b) treemap = <fun> *)\n",
    "(* val keys : ('a, 'b) treemap -> 'a list = <fun> *)"
   ]
  },
  {
   "cell_type": "code",
   "execution_count": 48,
   "metadata": {},
   "outputs": [
    {
     "data": {
      "text/plain": [
       "val get : 'a -> ('a, 'b) treemap -> 'b option = <fun>\n"
      ]
     },
     "execution_count": 48,
     "metadata": {},
     "output_type": "execute_result"
    },
    {
     "data": {
      "text/plain": [
       "val put : 'a -> 'b -> ('a, 'b) treemap -> ('a, 'b) treemap = <fun>\n"
      ]
     },
     "execution_count": 48,
     "metadata": {},
     "output_type": "execute_result"
    }
   ],
   "source": [
    "let rec get key t =\n",
    "            match t with Empty -> None\n",
    "                       | Node(k, v, l, r) when k = key -> Some v\n",
    "                       | Node(k, v, l, r) when key < k -> get key l\n",
    "                       | Node(k, v, l, r) -> get key r;;\n",
    "\n",
    "let rec put key value t = \n",
    "              match t with Empty -> Node(key, value, Empty, Empty)\n",
    "            | Node(k, v, l, r)-> \n",
    "                       if key < k then Node(k, v, put key value l, r)\n",
    "                       else if key > k then Node(k, v, l, put key value r)\n",
    "                       else Node(k, v, l, r);;"
   ]
  },
  {
   "cell_type": "code",
   "execution_count": 55,
   "metadata": {},
   "outputs": [
    {
     "data": {
      "text/plain": [
       "val get : 'a -> ('a, 'b) treemap -> 'b option = <fun>\n"
      ]
     },
     "execution_count": 55,
     "metadata": {},
     "output_type": "execute_result"
    },
    {
     "data": {
      "text/plain": [
       "val put : 'a -> 'b -> ('a, 'b) treemap -> ('a, 'b) treemap = <fun>\n"
      ]
     },
     "execution_count": 55,
     "metadata": {},
     "output_type": "execute_result"
    },
    {
     "data": {
      "text/plain": [
       "val keys : ('a, 'b) treemap -> 'a list = <fun>\n"
      ]
     },
     "execution_count": 55,
     "metadata": {},
     "output_type": "execute_result"
    }
   ],
   "source": [
    "let rec get key t = match t with\n",
    "    | Leaf -> None\n",
    "    | Node(k,v,l,r) when k=key -> Some v\n",
    "    | Node(k,v,l,r) when key<k -> get key l\n",
    "    | Node(k,v,l,r) -> get key r;;\n",
    "\n",
    "let rec put key value t = match t with\n",
    "    | Leaf -> Node(key, value, Leaf, Leaf)\n",
    "    | Node(k,v,l,r) ->\n",
    "      if key<k then Node(k,v, put key value l, r)\n",
    "      else if key=k then Node(k,value, l, r)\n",
    "      else Node(k,v, l, put key value r);;\n",
    "      \n",
    "let keys t = \n",
    "    let rec aux acc t = match t with\n",
    "      | Leaf -> acc\n",
    "      | Node(k,v,l,r) -> aux (k::(aux acc l)) r\n",
    "    in\n",
    "    aux [] t;;"
   ]
  },
  {
   "cell_type": "markdown",
   "metadata": {},
   "source": [
    "An alternative to associative lists is to use functions of type `'k -> 'v option` directly. So for example, the function `fun x -> Some (x * x + 1)` respresents a very efficient mapping from any number to the successor of its square.\n",
    "\n",
    "<br> <br> <br>\n",
    "\n",
    "3) Implement the above functions again for mappings based on functions. Some of these functions cannot be implemented, however:"
   ]
  },
  {
   "cell_type": "code",
   "execution_count": 44,
   "metadata": {},
   "outputs": [
    {
     "data": {
      "text/plain": [
       "val is_empty : 'a -> 'b = <fun>\n"
      ]
     },
     "execution_count": 44,
     "metadata": {},
     "output_type": "execute_result"
    },
    {
     "ename": "error",
     "evalue": "compile_error",
     "output_type": "error",
     "traceback": [
      "\u001b[32mFile \"[44]\", line 3, characters 13-14:\n\u001b[31mError: Unbound value m\n\u001b[36m   2: \u001b[30m\n\u001b[36m   3: \u001b[30mlet get k  = \u001b[4mm\u001b[0m\u001b[30m k;;\n\u001b[36m   4: \u001b[30m\u001b[0m\n"
     ]
    }
   ],
   "source": [
    "let is_empty m = failwith \"impossible\";;\n",
    "\n",
    "let get k m = m k;;\n",
    "\n",
    "let put k v m = fun x -> if x = k then Some v else m x;;\n",
    "\n",
    "let contains_key k m = (get k m) <> None;;\n",
    "\n",
    "let remove k m = fun x -> if x = k then None else m x;;\n",
    "\n",
    "let keys m = failwith \"impossible\";;\n",
    "\n",
    "let values m = failwith \"impossible\";;"
   ]
  },
  {
   "cell_type": "markdown",
   "metadata": {},
   "source": [
    "4) Discuss: What are the advantages of either approach? When would you use which?\n",
    "\n",
    "The function approach is very efficient when the mapping is changed rarely or not at all, because the chain of nested function calls grows with every modification. Querying values from the list is linear in the length of the list, however, if mappings change a lot, it is still much better than the other approach or if functionality like `keys` or `values` is required, which the function implementation could only do by iterating over all values in the domain type (e.g. from `min_int` to `max_int` for `'k = int`)."
   ]
  },
  {
   "cell_type": "markdown",
   "metadata": {},
   "source": [
    "### Assignment 7.3 (P) Operator Functions\n",
    "\n",
    "In OCaml, infix notation of operators is just syntactic sugar for a call to the corresponding function. The binary addition `+` merely calls the function `(+) : int -> int -> int`.\n",
    "\n",
    "1) Discuss why this is a very useful feature.\n",
    "\n",
    "First, you can define your own operator functions and thus add additional infix operators or change the semantics of an existing one. See the `(=.)` operator defined in the homework tests for example. Second, operators can be used directy in contexts where a function is required. Instead of defining a new function `fun a b -> a + b` the operator `(+)` can be used when folding over a list: `fold_left (+) 0 l`."
   ]
  },
  {
   "cell_type": "code",
   "execution_count": 49,
   "metadata": {},
   "outputs": [
    {
     "data": {
      "text/plain": [
       "- : int -> int -> int = <fun>\n"
      ]
     },
     "execution_count": 49,
     "metadata": {},
     "output_type": "execute_result"
    }
   ],
   "source": [
    "(+);;"
   ]
  },
  {
   "cell_type": "code",
   "execution_count": 50,
   "metadata": {},
   "outputs": [
    {
     "data": {
      "text/plain": [
       "val ( =. ) : string -> string -> string = <fun>\n"
      ]
     },
     "execution_count": 50,
     "metadata": {},
     "output_type": "execute_result"
    }
   ],
   "source": [
    "let (=.) s1 s2 = s1 ^ s2;;\n"
   ]
  },
  {
   "cell_type": "code",
   "execution_count": 52,
   "metadata": {},
   "outputs": [
    {
     "data": {
      "text/plain": [
       "- : string = \"We are End\"\n"
      ]
     },
     "execution_count": 52,
     "metadata": {},
     "output_type": "execute_result"
    }
   ],
   "source": [
    "\"We are\" =. \" End\";;"
   ]
  },
  {
   "cell_type": "code",
   "execution_count": null,
   "metadata": {},
   "outputs": [],
   "source": []
  }
 ],
 "metadata": {
  "kernelspec": {
   "display_name": "OCaml 4.05.0",
   "language": "OCaml",
   "name": "ocaml-jupyter"
  },
  "language_info": {
   "codemirror_mode": "text/x-ocaml",
   "file_extension": ".ml",
   "mimetype": "text/x-ocaml",
   "name": "OCaml",
   "nbconverter_exporter": null,
   "pygments_lexer": "OCaml",
   "version": "4.05.0"
  }
 },
 "nbformat": 4,
 "nbformat_minor": 2
}
